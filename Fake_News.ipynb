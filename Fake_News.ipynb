{
  "nbformat": 4,
  "nbformat_minor": 0,
  "metadata": {
    "colab": {
      "provenance": [],
      "authorship_tag": "ABX9TyNbh0w4NPdYELSL9egSsFC/",
      "include_colab_link": true
    },
    "kernelspec": {
      "name": "python3",
      "display_name": "Python 3"
    },
    "language_info": {
      "name": "python"
    }
  },
  "cells": [
    {
      "cell_type": "markdown",
      "metadata": {
        "id": "view-in-github",
        "colab_type": "text"
      },
      "source": [
        "<a href=\"https://colab.research.google.com/github/Mahdi-Miri/FakeNewsDetector/blob/main/Fake_News.ipynb\" target=\"_parent\"><img src=\"https://colab.research.google.com/assets/colab-badge.svg\" alt=\"Open In Colab\"/></a>"
      ]
    },
    {
      "cell_type": "code",
      "source": [
        "!pip install kagglehub numpy pandas scikit-learn nltk matplotlib\n",
        "import nltk\n",
        "import kagglehub\n",
        "import pandas as pd\n",
        "import os\n",
        "nltk.download('punkt')\n",
        "nltk.download('stopwords')\n",
        "nltk.download('wordnet')"
      ],
      "metadata": {
        "id": "rzK7gQ94HfLM",
        "colab": {
          "base_uri": "https://localhost:8080/"
        },
        "outputId": "50783af6-f081-4bb0-9e69-953891a0c58a"
      },
      "execution_count": 43,
      "outputs": [
        {
          "output_type": "stream",
          "name": "stdout",
          "text": [
            "Requirement already satisfied: kagglehub in /usr/local/lib/python3.11/dist-packages (0.3.10)\n",
            "Requirement already satisfied: numpy in /usr/local/lib/python3.11/dist-packages (2.0.2)\n",
            "Requirement already satisfied: pandas in /usr/local/lib/python3.11/dist-packages (2.2.2)\n",
            "Requirement already satisfied: scikit-learn in /usr/local/lib/python3.11/dist-packages (1.6.1)\n",
            "Requirement already satisfied: nltk in /usr/local/lib/python3.11/dist-packages (3.9.1)\n",
            "Requirement already satisfied: matplotlib in /usr/local/lib/python3.11/dist-packages (3.10.0)\n",
            "Requirement already satisfied: packaging in /usr/local/lib/python3.11/dist-packages (from kagglehub) (24.2)\n",
            "Requirement already satisfied: pyyaml in /usr/local/lib/python3.11/dist-packages (from kagglehub) (6.0.2)\n",
            "Requirement already satisfied: requests in /usr/local/lib/python3.11/dist-packages (from kagglehub) (2.32.3)\n",
            "Requirement already satisfied: tqdm in /usr/local/lib/python3.11/dist-packages (from kagglehub) (4.67.1)\n",
            "Requirement already satisfied: python-dateutil>=2.8.2 in /usr/local/lib/python3.11/dist-packages (from pandas) (2.8.2)\n",
            "Requirement already satisfied: pytz>=2020.1 in /usr/local/lib/python3.11/dist-packages (from pandas) (2025.2)\n",
            "Requirement already satisfied: tzdata>=2022.7 in /usr/local/lib/python3.11/dist-packages (from pandas) (2025.2)\n",
            "Requirement already satisfied: scipy>=1.6.0 in /usr/local/lib/python3.11/dist-packages (from scikit-learn) (1.14.1)\n",
            "Requirement already satisfied: joblib>=1.2.0 in /usr/local/lib/python3.11/dist-packages (from scikit-learn) (1.4.2)\n",
            "Requirement already satisfied: threadpoolctl>=3.1.0 in /usr/local/lib/python3.11/dist-packages (from scikit-learn) (3.6.0)\n",
            "Requirement already satisfied: click in /usr/local/lib/python3.11/dist-packages (from nltk) (8.1.8)\n",
            "Requirement already satisfied: regex>=2021.8.3 in /usr/local/lib/python3.11/dist-packages (from nltk) (2024.11.6)\n",
            "Requirement already satisfied: contourpy>=1.0.1 in /usr/local/lib/python3.11/dist-packages (from matplotlib) (1.3.1)\n",
            "Requirement already satisfied: cycler>=0.10 in /usr/local/lib/python3.11/dist-packages (from matplotlib) (0.12.1)\n",
            "Requirement already satisfied: fonttools>=4.22.0 in /usr/local/lib/python3.11/dist-packages (from matplotlib) (4.56.0)\n",
            "Requirement already satisfied: kiwisolver>=1.3.1 in /usr/local/lib/python3.11/dist-packages (from matplotlib) (1.4.8)\n",
            "Requirement already satisfied: pillow>=8 in /usr/local/lib/python3.11/dist-packages (from matplotlib) (11.1.0)\n",
            "Requirement already satisfied: pyparsing>=2.3.1 in /usr/local/lib/python3.11/dist-packages (from matplotlib) (3.2.3)\n",
            "Requirement already satisfied: six>=1.5 in /usr/local/lib/python3.11/dist-packages (from python-dateutil>=2.8.2->pandas) (1.17.0)\n",
            "Requirement already satisfied: charset-normalizer<4,>=2 in /usr/local/lib/python3.11/dist-packages (from requests->kagglehub) (3.4.1)\n",
            "Requirement already satisfied: idna<4,>=2.5 in /usr/local/lib/python3.11/dist-packages (from requests->kagglehub) (3.10)\n",
            "Requirement already satisfied: urllib3<3,>=1.21.1 in /usr/local/lib/python3.11/dist-packages (from requests->kagglehub) (2.3.0)\n",
            "Requirement already satisfied: certifi>=2017.4.17 in /usr/local/lib/python3.11/dist-packages (from requests->kagglehub) (2025.1.31)\n"
          ]
        },
        {
          "output_type": "stream",
          "name": "stderr",
          "text": [
            "[nltk_data] Downloading package punkt to /root/nltk_data...\n",
            "[nltk_data]   Package punkt is already up-to-date!\n",
            "[nltk_data] Downloading package stopwords to /root/nltk_data...\n",
            "[nltk_data]   Package stopwords is already up-to-date!\n",
            "[nltk_data] Downloading package wordnet to /root/nltk_data...\n",
            "[nltk_data]   Package wordnet is already up-to-date!\n"
          ]
        },
        {
          "output_type": "execute_result",
          "data": {
            "text/plain": [
              "True"
            ]
          },
          "metadata": {},
          "execution_count": 43
        }
      ]
    },
    {
      "cell_type": "code",
      "source": [
        "dataset_path = kagglehub.dataset_download(\"hassanamin/textdb3\")\n",
        "\n",
        "print(\"Files in dataset:\", os.listdir(dataset_path))"
      ],
      "metadata": {
        "colab": {
          "base_uri": "https://localhost:8080/"
        },
        "id": "iV9bJC25h9V9",
        "outputId": "2499e580-9c85-4941-b04b-8468b9095132"
      },
      "execution_count": 44,
      "outputs": [
        {
          "output_type": "stream",
          "name": "stdout",
          "text": [
            "Files in dataset: ['fake_or_real_news.csv']\n"
          ]
        }
      ]
    },
    {
      "cell_type": "code",
      "source": [
        "csv_file = [f for f in os.listdir(dataset_path) if f.endswith(\".csv\")][0]\n",
        "csv_path = os.path.join(dataset_path, csv_file)"
      ],
      "metadata": {
        "id": "nSgPjaoCiBSc"
      },
      "execution_count": 45,
      "outputs": []
    },
    {
      "cell_type": "code",
      "source": [
        "df = pd.read_csv(csv_path)"
      ],
      "metadata": {
        "id": "ft4DK49ugr93"
      },
      "execution_count": 46,
      "outputs": []
    },
    {
      "cell_type": "code",
      "source": [
        "print(df.head())"
      ],
      "metadata": {
        "colab": {
          "base_uri": "https://localhost:8080/"
        },
        "id": "GdYzcD9phK4s",
        "outputId": "aece65f0-f9fe-4afd-fa16-5681c958ae42"
      },
      "execution_count": 47,
      "outputs": [
        {
          "output_type": "stream",
          "name": "stdout",
          "text": [
            "   Unnamed: 0                                              title  \\\n",
            "0        8476                       You Can Smell Hillary’s Fear   \n",
            "1       10294  Watch The Exact Moment Paul Ryan Committed Pol...   \n",
            "2        3608        Kerry to go to Paris in gesture of sympathy   \n",
            "3       10142  Bernie supporters on Twitter erupt in anger ag...   \n",
            "4         875   The Battle of New York: Why This Primary Matters   \n",
            "\n",
            "                                                text label  \n",
            "0  Daniel Greenfield, a Shillman Journalism Fello...  FAKE  \n",
            "1  Google Pinterest Digg Linkedin Reddit Stumbleu...  FAKE  \n",
            "2  U.S. Secretary of State John F. Kerry said Mon...  REAL  \n",
            "3  — Kaydee King (@KaydeeKing) November 9, 2016 T...  FAKE  \n",
            "4  It's primary day in New York and front-runners...  REAL  \n"
          ]
        }
      ]
    },
    {
      "cell_type": "code",
      "source": [
        "df.shape"
      ],
      "metadata": {
        "colab": {
          "base_uri": "https://localhost:8080/"
        },
        "id": "g-bMetngiLTv",
        "outputId": "08bf268a-fc98-4ba0-b888-816c8584beeb"
      },
      "execution_count": 48,
      "outputs": [
        {
          "output_type": "execute_result",
          "data": {
            "text/plain": [
              "(6335, 4)"
            ]
          },
          "metadata": {},
          "execution_count": 48
        }
      ]
    },
    {
      "cell_type": "code",
      "source": [
        "df.info()"
      ],
      "metadata": {
        "colab": {
          "base_uri": "https://localhost:8080/"
        },
        "id": "ZAZJRRG4iWrD",
        "outputId": "0131104f-66db-4f0a-906e-3699542e0fc6"
      },
      "execution_count": 49,
      "outputs": [
        {
          "output_type": "stream",
          "name": "stdout",
          "text": [
            "<class 'pandas.core.frame.DataFrame'>\n",
            "RangeIndex: 6335 entries, 0 to 6334\n",
            "Data columns (total 4 columns):\n",
            " #   Column      Non-Null Count  Dtype \n",
            "---  ------      --------------  ----- \n",
            " 0   Unnamed: 0  6335 non-null   int64 \n",
            " 1   title       6335 non-null   object\n",
            " 2   text        6335 non-null   object\n",
            " 3   label       6335 non-null   object\n",
            "dtypes: int64(1), object(3)\n",
            "memory usage: 198.1+ KB\n"
          ]
        }
      ]
    },
    {
      "cell_type": "code",
      "source": [
        "import pandas as pd\n",
        "print(df.isna())\n",
        "print(df.isna().sum())"
      ],
      "metadata": {
        "colab": {
          "base_uri": "https://localhost:8080/"
        },
        "id": "ShhkESEbi3Wz",
        "outputId": "d5313389-7b32-42e5-bd39-17b7b187c1a6"
      },
      "execution_count": 50,
      "outputs": [
        {
          "output_type": "stream",
          "name": "stdout",
          "text": [
            "      Unnamed: 0  title   text  label\n",
            "0          False  False  False  False\n",
            "1          False  False  False  False\n",
            "2          False  False  False  False\n",
            "3          False  False  False  False\n",
            "4          False  False  False  False\n",
            "...          ...    ...    ...    ...\n",
            "6330       False  False  False  False\n",
            "6331       False  False  False  False\n",
            "6332       False  False  False  False\n",
            "6333       False  False  False  False\n",
            "6334       False  False  False  False\n",
            "\n",
            "[6335 rows x 4 columns]\n",
            "Unnamed: 0    0\n",
            "title         0\n",
            "text          0\n",
            "label         0\n",
            "dtype: int64\n"
          ]
        }
      ]
    },
    {
      "cell_type": "code",
      "source": [
        "import seaborn as sns\n",
        "import matplotlib.pyplot as plt\n",
        "\n",
        "sns.heatmap(df.isna(), cmap=\"viridis\", cbar=False, yticklabels=False)\n",
        "plt.show()\n"
      ],
      "metadata": {
        "colab": {
          "base_uri": "https://localhost:8080/",
          "height": 430
        },
        "id": "S5cmvRcVicUV",
        "outputId": "aa506d14-77de-4e27-b44e-961b11e64560"
      },
      "execution_count": 51,
      "outputs": [
        {
          "output_type": "display_data",
          "data": {
            "text/plain": [
              "<Figure size 640x480 with 1 Axes>"
            ],
            "image/png": "[encoded data removed]"
          },
          "metadata": {}
        }
      ]
    },
    {
      "cell_type": "code",
      "source": [
        "print(df['label'].value_counts())"
      ],
      "metadata": {
        "colab": {
          "base_uri": "https://localhost:8080/"
        },
        "id": "lmEOAojPi13Z",
        "outputId": "f5305b3c-4bda-4b88-c797-394d645adbb6"
      },
      "execution_count": 52,
      "outputs": [
        {
          "output_type": "stream",
          "name": "stdout",
          "text": [
            "label\n",
            "REAL    3171\n",
            "FAKE    3164\n",
            "Name: count, dtype: int64\n"
          ]
        }
      ]
    },
    {
      "cell_type": "code",
      "source": [
        "df.columns.tolist()"
      ],
      "metadata": {
        "colab": {
          "base_uri": "https://localhost:8080/"
        },
        "id": "i5ONPD0Nkrbt",
        "outputId": "4c990831-5367-4b6e-c8bf-64600dcd7088"
      },
      "execution_count": 53,
      "outputs": [
        {
          "output_type": "execute_result",
          "data": {
            "text/plain": [
              "['Unnamed: 0', 'title', 'text', 'label']"
            ]
          },
          "metadata": {},
          "execution_count": 53
        }
      ]
    },
    {
      "cell_type": "code",
      "source": [
        "df = df.drop('Unnamed: 0', axis=1)"
      ],
      "metadata": {
        "id": "IaDdQrClj1jw"
      },
      "execution_count": 54,
      "outputs": []
    },
    {
      "cell_type": "code",
      "source": [
        "df.columns.tolist()"
      ],
      "metadata": {
        "colab": {
          "base_uri": "https://localhost:8080/"
        },
        "id": "netvw6ElkiPe",
        "outputId": "a9f678c7-2067-40f8-8899-c6082f7d1dcc"
      },
      "execution_count": 55,
      "outputs": [
        {
          "output_type": "execute_result",
          "data": {
            "text/plain": [
              "['title', 'text', 'label']"
            ]
          },
          "metadata": {},
          "execution_count": 55
        }
      ]
    },
    {
      "cell_type": "code",
      "source": [
        "columns_to_check = ['title', 'text']\n",
        "\n",
        "for column in columns_to_check:\n",
        "    duplicate_rows = df[column].duplicated()\n",
        "    if duplicate_rows.any():\n",
        "        print(f\"Duplicate values found in column '{column}'.\")\n",
        "        print(f\"Number of duplicate values in column '{column}': {duplicate_rows.sum()}\")\n",
        "\n",
        "    else:\n",
        "        print(f\"No duplicate values found in column '{column}'.\")\n",
        "\n",
        "duplicate_all = df[df.duplicated(subset=['title','text'])]\n",
        "if not duplicate_all.empty:\n",
        "    print(f\"Duplicate rows found in the combination of 'title' and 'text'.\")\n",
        "    print(duplicate_all)\n",
        "else:\n",
        "    print(f\"No duplicate rows found in the combination of 'title' and 'text'.\")\n"
      ],
      "metadata": {
        "colab": {
          "base_uri": "https://localhost:8080/"
        },
        "id": "GiBgAAlnmEV5",
        "outputId": "05687685-b69b-4b18-d429-caa52c981ef0"
      },
      "execution_count": 56,
      "outputs": [
        {
          "output_type": "stream",
          "name": "stdout",
          "text": [
            "Duplicate values found in column 'title'.\n",
            "Number of duplicate values in column 'title': 79\n",
            "Duplicate values found in column 'text'.\n",
            "Number of duplicate values in column 'text': 275\n",
            "Duplicate rows found in the combination of 'title' and 'text'.\n",
            "                                                  title  \\\n",
            "1492  University of Missouri, please immediately fir...   \n",
            "1954  Loretta Lynch becomes first African-American w...   \n",
            "2336  Obamacare Enrollees Anxiously Await Supreme Co...   \n",
            "2856  Donald Trump is blatantly racist — and the med...   \n",
            "2952       Black Agenda Report for Week of Oct 31, 2016   \n",
            "3081    The College Loan Bombshell Hidden in the Budget   \n",
            "3292  This astonishing chart shows how moderate Repu...   \n",
            "3301                      OnPolitics | 's politics blog   \n",
            "3324  Senate GOP prepared to replace Obamacare subsi...   \n",
            "4140  We Republicans Lost On Gay Rights. That’s A Go...   \n",
            "4405  Paintings 'almost no one else seemed to be doing'   \n",
            "4885  An Open Letter to Black South African Police O...   \n",
            "4971      US faces calls to ‘walk away’ from Iran talks   \n",
            "5083     Fighting Ghost Fascists While Aiding Real Ones   \n",
            "5105  Clinton clinches Democratic nomination – Sande...   \n",
            "5127                      OnPolitics | 's politics blog   \n",
            "5414  Do Democrats Want What Bernie Wants, Or Just W...   \n",
            "5417        Black Agenda Radio for Week of Nov. 7, 2016   \n",
            "5478  FEAR OF TRUMP: BUSH, OBAMA, CLINTON ALL BUYING...   \n",
            "5500  Saudi ambassador to the UAE: Any contact with ...   \n",
            "5536  Anti-Trump forces seek last-ditch delegate revolt   \n",
            "5627  Clinton clearing primary field for potential 2...   \n",
            "5705  Political polarization is getting worse. Every...   \n",
            "5916  Is it possible that Saudi King be tried in US ...   \n",
            "5966  There’s a good reason protesters at the Univer...   \n",
            "6083  Biden Blames “Lazy American Women” For The Eco...   \n",
            "6148  Hillary’s “Big Tent” is Obama’s “Grand Bargain...   \n",
            "6227  ISIS uses an industrial dough kneader to kill ...   \n",
            "6233  North Korea Threatens ‘Sacred’ Nuclear War Aga...   \n",
            "\n",
            "                                                   text label  \n",
            "1492  To watch the video of photographer Tim Tai get...  REAL  \n",
            "1954  Washington (CNN) Loretta Lynch was sworn in as...  REAL  \n",
            "2336  “I’ve got my six-month, regular cancer checkup...  REAL  \n",
            "2856  Donald Trump, the actual Republican candidate ...  REAL  \n",
            "2952  News, information and analysis from the black ...  FAKE  \n",
            "3081  In obscure data tables buried deep in its 2016...  REAL  \n",
            "3292  Political scientists have known for years that...  REAL  \n",
            "3301  Who has Trump appointed to his cabinet so far?...  REAL  \n",
            "3324  Killing Obama administration rules, dismantlin...  REAL  \n",
            "4140  I’m not among those Republicans who have “evol...  REAL  \n",
            "4405  Print \\nWhen Judith Gait met “Father X,” it wa...  FAKE  \n",
            "4885  Tweet Widget by Black Power Front \\nWith stude...  FAKE  \n",
            "4971  A leading Republican critic of the Iranian nuc...  REAL  \n",
            "5083  2016 presidential campaign by BAR executive ed...  FAKE  \n",
            "5105  Hillary Clinton clinched the Democratic presid...  REAL  \n",
            "5127  Who has Trump appointed to his cabinet so far?...  REAL  \n",
            "5414  Do Democrats Want What Bernie Wants, Or Just W...  REAL  \n",
            "5417  News, information and analysis from the black ...  FAKE  \n",
            "5478  Email \\n\\nIt appears Bill and Hillary Clinton ...  FAKE  \n",
            "5500  Email \\n\\nAccording to a report by an Emirati ...  FAKE  \n",
            "5536  Washington (CNN) The faction of the GOP that i...  REAL  \n",
            "5627  Hillary Clinton appears to have scared away mu...  REAL  \n",
            "5705  You've probably seen this chart.\\n\\nIt uses an...  REAL  \n",
            "5916  Email \\n\\nAccording to the JASTA law which all...  FAKE  \n",
            "5966  Video of a confrontation between a news photog...  REAL  \n",
            "6083  Email \\n\\nDemocratic Vice President Joe Biden ...  FAKE  \n",
            "6148  2016 presidential campaign by BAR executive ed...  FAKE  \n",
            "6227  Email \\nISIS barbarians used an industrial dou...  FAKE  \n",
            "6233  Email \\nNorth Korea’s Foreign Ministry slammed...  FAKE  \n"
          ]
        }
      ]
    },
    {
      "cell_type": "code",
      "source": [
        "duplicated_titles = df[df['title'].duplicated(keep=False)]['title']\n",
        "\n",
        "if not duplicated_titles.empty:\n",
        "    print(\"Duplicate values in the 'title' column:\")\n",
        "    print(duplicated_titles.unique())\n",
        "else:\n",
        "    print(\"No duplicate values found in the 'title' column.\")"
      ],
      "metadata": {
        "colab": {
          "base_uri": "https://localhost:8080/"
        },
        "id": "awfoTms7mhxM",
        "outputId": "6f071bf4-b64b-4be7-b442-3b7bf276f863"
      },
      "execution_count": 57,
      "outputs": [
        {
          "output_type": "stream",
          "name": "stdout",
          "text": [
            "Duplicate values in the 'title' column:\n",
            "['Anti-Trump forces seek last-ditch delegate revolt'\n",
            " 'Loretta Lynch becomes first African-American woman AG.'\n",
            " 'Syrian War Report – November 2, 2016: ISIS and Al-Nusra Attempt to Cut Off Govt Supply Line to Aleppo'\n",
            " 'The Fix Is In: NBC Affiliate Accidentally Posts Election Results A Week Early: Hillary Wins Presidency 42% to Trump’s 40%'\n",
            " 'Do Democrats Want What Bernie Wants, Or Just What Bernie Has?'\n",
            " 'US abstains from UN vote calling for end to Cuban embargo'\n",
            " 'Get Ready For Civil Unrest: Survey Finds That Most Americans Are Concerned About Election Violence'\n",
            " 'Meteor, space junk, rocket? Mysterious flash hits Siberia'\n",
            " 'Hillary’s “Big Tent” is Obama’s “Grand Bargain” on Steroids'\n",
            " 'Collusion Between Facebook and Hillary’s Campaign Revealed in Clinton Emails'\n",
            " 'The Dark Agenda Behind Globalism And Open Borders'\n",
            " 'Michael Moore Owes Me $4.99'\n",
            " 'Guardian Front Page: “A 16-Year-Old Migrant Cries…”'\n",
            " \"OnPolitics | 's politics blog\"\n",
            " '18 State Swat Team Drill In Prep for Backlash Against a Stolen Election'\n",
            " 'The United States Is Pre-Positioning “Enemy Assets” In Preparation For A Rigged Election'\n",
            " \"Cruz's immigration gambit\" 'The Israeli Trumpess'\n",
            " 'US faces calls to ‘walk away’ from Iran talks'\n",
            " 'Sex and the Presidential City'\n",
            " 'University of Missouri, please immediately fire employees who taunted media'\n",
            " 'Clintons Are Under Multiple FBI Investigations as Agents Are Stymied'\n",
            " 'Black Agenda Radio for Week of Nov. 7, 2016'\n",
            " 'Media Roll Out Welcome Mat for ‘Humanitarian’ War in Syria'\n",
            " 'John Podesta’s New Global Order'\n",
            " 'There’s a good reason protesters at the University of Missouri didn’t want the media around'\n",
            " 'Donald Trump is blatantly racist — and the media is too scared to call him out on it'\n",
            " 'North Korea Threatens ‘Sacred’ Nuclear War Against Israel if this country continue supporting ISIS'\n",
            " 'American Dream, Revisited'\n",
            " 'This astonishing chart shows how moderate Republicans are an endangered species'\n",
            " 'Tony Blair suggests a second referendum to reverse Brexit'\n",
            " 'What is going on with WikiLeaks?'\n",
            " 'Iraqis in Mosul Find US Missiles at Captured Islamic State Base'\n",
            " 'The Story of How the DOJ Tried to Thwart an FBI Investigation Into the Clinton Foundation'\n",
            " 'The College Loan Bombshell Hidden in the Budget'\n",
            " 'Trump and all the other far right leaders are Zionist stooges'\n",
            " 'Fighting Ghost Fascists While Aiding Real Ones'\n",
            " 'WHO Cancer Agency Under Fire for withholding ‘carcinogenic glyphosate’ Documents'\n",
            " 'Obamacare Enrollees Anxiously Await Supreme Court Decision That Threatens Their Coverage'\n",
            " 'Senate GOP prepared to replace Obamacare subsidies'\n",
            " 'Black Agenda Report for Week of Oct 31, 2016'\n",
            " \"Project Veritas 4: Robert Creamer's Illegal $20,000 Foreign Wire Transfer Caught On Tape\"\n",
            " 'One Veteran’s War on Islamophobia'\n",
            " 'Not Guilty: The Power of Nullification to Counteract Government Tyranny'\n",
            " 'The Only Way to Save the World is to Save Yourself'\n",
            " 'Police arrest 141 in crackdown on North Dakota pipeline protesters'\n",
            " 'After terrorizing America with Zika scaremongering, Washington Post now admits Zika virus doesn’t cause brain deformities after all'\n",
            " \"Democratic debate: 's Reality Check team inspects the claims\"\n",
            " 'Democratic debate: 6 takeaways'\n",
            " '6 Natural Herbs To Prevent Mental Disorders'\n",
            " 'We Republicans Lost On Gay Rights. That’s A Good Thing.'\n",
            " 'Assange claims ‘crazed’ Clinton campaign tried to hack WikiLeaks'\n",
            " \"Paintings 'almost no one else seemed to be doing'\"\n",
            " 'Former DEA Prescription Head Drops a BombShell — Congress Protects Big Pharma & Fuels Opioid Crisis'\n",
            " 'Hillary is So Unpopular, She Has to Pay Off Youth Voters and Fabricate Her Rallies'\n",
            " 'An Open Letter to Black South African Police Officers'\n",
            " 'Will Barack Obama Delay Or Suspend The Election If Hillary Is Forced Out By The New FBI Email Investigation?'\n",
            " 'Constitutional Law Expert: Comey Did NOT Violate Law By Announcing Email Investigation'\n",
            " 'Political polarization is getting worse. Everywhere.'\n",
            " 'Goldman Sachs Endorses Hillary Clinton For President'\n",
            " 'US Secret Service Struggles To Find Recruits Who Haven’t Used Adderall'\n",
            " 'Clinton clearing primary field for potential 2016 run could leave her vulnerable'\n",
            " 'Schools All Over America Are Closing On Election Day Due To Fears Of Violence'\n",
            " 'Progressives Find ‘White Trash’ More Threatening Than Nuclear War'\n",
            " 'FEAR OF TRUMP: BUSH, OBAMA, CLINTON ALL BUYING PROPERTY IN NON-EXTRADITION NATIONS'\n",
            " 'An Identity-Politicized Election and World Series Lakefront Liberals Can Love'\n",
            " 'Is it possible that Saudi King be tried in US courts by JASTA Law?'\n",
            " 'Clinton clinches Democratic nomination – Sanders vows to fight on'\n",
            " 'Saudi ambassador to the UAE: Any contact with Iran, Iraq, Syria, and Lebanon should be checked'\n",
            " 'All Governments Lie, The Movie'\n",
            " 'The Deceptive Nature of Hillary Clinton is Right in Line with Communism'\n",
            " 'Biden Blames “Lazy American Women” For The Economy: “They Sit Around Doing Nothing, Only Hillary Can Force Them To Work”'\n",
            " 'ISIS uses an industrial dough kneader to kill 250 children, roasts adults in a bakery oven in Douma, Syria']\n"
          ]
        }
      ]
    },
    {
      "cell_type": "code",
      "source": [
        "df_no_duplicates = df.drop_duplicates(subset=['title', 'text'])\n",
        "\n",
        "print(\"DataFrame without duplicate rows:\")\n",
        "print(df_no_duplicates)\n",
        "\n",
        "df = df.drop_duplicates(subset=['title'])\n",
        "\n",
        "print(\"DataFrame without duplicate rows based on 'title' column:\")\n",
        "print(df)\n",
        "\n",
        "df = df.drop_duplicates(subset=['text'])\n",
        "\n",
        "print(\"DataFrame without duplicate rows based on 'text' column:\")\n",
        "print(df)"
      ],
      "metadata": {
        "colab": {
          "base_uri": "https://localhost:8080/"
        },
        "id": "TG3JB7r3m0oB",
        "outputId": "70de2173-aa7b-456a-e24b-c17059903b68"
      },
      "execution_count": 58,
      "outputs": [
        {
          "output_type": "stream",
          "name": "stdout",
          "text": [
            "DataFrame without duplicate rows:\n",
            "                                                  title  \\\n",
            "0                          You Can Smell Hillary’s Fear   \n",
            "1     Watch The Exact Moment Paul Ryan Committed Pol...   \n",
            "2           Kerry to go to Paris in gesture of sympathy   \n",
            "3     Bernie supporters on Twitter erupt in anger ag...   \n",
            "4      The Battle of New York: Why This Primary Matters   \n",
            "...                                                 ...   \n",
            "6330  State Department says it can't find emails fro...   \n",
            "6331  The ‘P’ in PBS Should Stand for ‘Plutocratic’ ...   \n",
            "6332  Anti-Trump Protesters Are Tools of the Oligarc...   \n",
            "6333  In Ethiopia, Obama seeks progress on peace, se...   \n",
            "6334  Jeb Bush Is Suddenly Attacking Trump. Here's W...   \n",
            "\n",
            "                                                   text label  \n",
            "0     Daniel Greenfield, a Shillman Journalism Fello...  FAKE  \n",
            "1     Google Pinterest Digg Linkedin Reddit Stumbleu...  FAKE  \n",
            "2     U.S. Secretary of State John F. Kerry said Mon...  REAL  \n",
            "3     — Kaydee King (@KaydeeKing) November 9, 2016 T...  FAKE  \n",
            "4     It's primary day in New York and front-runners...  REAL  \n",
            "...                                                 ...   ...  \n",
            "6330  The State Department told the Republican Natio...  REAL  \n",
            "6331  The ‘P’ in PBS Should Stand for ‘Plutocratic’ ...  FAKE  \n",
            "6332   Anti-Trump Protesters Are Tools of the Oligar...  FAKE  \n",
            "6333  ADDIS ABABA, Ethiopia —President Obama convene...  REAL  \n",
            "6334  Jeb Bush Is Suddenly Attacking Trump. Here's W...  REAL  \n",
            "\n",
            "[6306 rows x 3 columns]\n",
            "DataFrame without duplicate rows based on 'title' column:\n",
            "                                                  title  \\\n",
            "0                          You Can Smell Hillary’s Fear   \n",
            "1     Watch The Exact Moment Paul Ryan Committed Pol...   \n",
            "2           Kerry to go to Paris in gesture of sympathy   \n",
            "3     Bernie supporters on Twitter erupt in anger ag...   \n",
            "4      The Battle of New York: Why This Primary Matters   \n",
            "...                                                 ...   \n",
            "6330  State Department says it can't find emails fro...   \n",
            "6331  The ‘P’ in PBS Should Stand for ‘Plutocratic’ ...   \n",
            "6332  Anti-Trump Protesters Are Tools of the Oligarc...   \n",
            "6333  In Ethiopia, Obama seeks progress on peace, se...   \n",
            "6334  Jeb Bush Is Suddenly Attacking Trump. Here's W...   \n",
            "\n",
            "                                                   text label  \n",
            "0     Daniel Greenfield, a Shillman Journalism Fello...  FAKE  \n",
            "1     Google Pinterest Digg Linkedin Reddit Stumbleu...  FAKE  \n",
            "2     U.S. Secretary of State John F. Kerry said Mon...  REAL  \n",
            "3     — Kaydee King (@KaydeeKing) November 9, 2016 T...  FAKE  \n",
            "4     It's primary day in New York and front-runners...  REAL  \n",
            "...                                                 ...   ...  \n",
            "6330  The State Department told the Republican Natio...  REAL  \n",
            "6331  The ‘P’ in PBS Should Stand for ‘Plutocratic’ ...  FAKE  \n",
            "6332   Anti-Trump Protesters Are Tools of the Oligar...  FAKE  \n",
            "6333  ADDIS ABABA, Ethiopia —President Obama convene...  REAL  \n",
            "6334  Jeb Bush Is Suddenly Attacking Trump. Here's W...  REAL  \n",
            "\n",
            "[6256 rows x 3 columns]\n",
            "DataFrame without duplicate rows based on 'text' column:\n",
            "                                                  title  \\\n",
            "0                          You Can Smell Hillary’s Fear   \n",
            "1     Watch The Exact Moment Paul Ryan Committed Pol...   \n",
            "2           Kerry to go to Paris in gesture of sympathy   \n",
            "3     Bernie supporters on Twitter erupt in anger ag...   \n",
            "4      The Battle of New York: Why This Primary Matters   \n",
            "...                                                 ...   \n",
            "6330  State Department says it can't find emails fro...   \n",
            "6331  The ‘P’ in PBS Should Stand for ‘Plutocratic’ ...   \n",
            "6332  Anti-Trump Protesters Are Tools of the Oligarc...   \n",
            "6333  In Ethiopia, Obama seeks progress on peace, se...   \n",
            "6334  Jeb Bush Is Suddenly Attacking Trump. Here's W...   \n",
            "\n",
            "                                                   text label  \n",
            "0     Daniel Greenfield, a Shillman Journalism Fello...  FAKE  \n",
            "1     Google Pinterest Digg Linkedin Reddit Stumbleu...  FAKE  \n",
            "2     U.S. Secretary of State John F. Kerry said Mon...  REAL  \n",
            "3     — Kaydee King (@KaydeeKing) November 9, 2016 T...  FAKE  \n",
            "4     It's primary day in New York and front-runners...  REAL  \n",
            "...                                                 ...   ...  \n",
            "6330  The State Department told the Republican Natio...  REAL  \n",
            "6331  The ‘P’ in PBS Should Stand for ‘Plutocratic’ ...  FAKE  \n",
            "6332   Anti-Trump Protesters Are Tools of the Oligar...  FAKE  \n",
            "6333  ADDIS ABABA, Ethiopia —President Obama convene...  REAL  \n",
            "6334  Jeb Bush Is Suddenly Attacking Trump. Here's W...  REAL  \n",
            "\n",
            "[6011 rows x 3 columns]\n"
          ]
        }
      ]
    },
    {
      "cell_type": "code",
      "source": [
        "import pandas as pd\n",
        "\n",
        "null_label_count = df['label'].isnull().sum()\n",
        "print(f\"Number of null values in the 'label' column: {null_label_count}\")\n",
        "\n",
        "df = df.dropna(subset=['label'])\n",
        "\n",
        "print(\"DataFrame after removing rows with null values in the 'label' column:\")\n",
        "print(df_cleaned)"
      ],
      "metadata": {
        "colab": {
          "base_uri": "https://localhost:8080/"
        },
        "id": "xfLP8qDYnxSO",
        "outputId": "8c3fbece-b65e-4fab-9d9f-196c031dc445"
      },
      "execution_count": 59,
      "outputs": [
        {
          "output_type": "stream",
          "name": "stdout",
          "text": [
            "Number of null values in the 'label' column: 0\n",
            "DataFrame after removing rows with null values in the 'label' column:\n",
            "                                                  title  \\\n",
            "0                          You Can Smell Hillary’s Fear   \n",
            "1     Watch The Exact Moment Paul Ryan Committed Pol...   \n",
            "2           Kerry to go to Paris in gesture of sympathy   \n",
            "3     Bernie supporters on Twitter erupt in anger ag...   \n",
            "4      The Battle of New York: Why This Primary Matters   \n",
            "...                                                 ...   \n",
            "6330  State Department says it can't find emails fro...   \n",
            "6331  The ‘P’ in PBS Should Stand for ‘Plutocratic’ ...   \n",
            "6332  Anti-Trump Protesters Are Tools of the Oligarc...   \n",
            "6333  In Ethiopia, Obama seeks progress on peace, se...   \n",
            "6334  Jeb Bush Is Suddenly Attacking Trump. Here's W...   \n",
            "\n",
            "                                                   text label  \n",
            "0     Daniel Greenfield, a Shillman Journalism Fello...  FAKE  \n",
            "1     Google Pinterest Digg Linkedin Reddit Stumbleu...  FAKE  \n",
            "2     U.S. Secretary of State John F. Kerry said Mon...  REAL  \n",
            "3     — Kaydee King (@KaydeeKing) November 9, 2016 T...  FAKE  \n",
            "4     It's primary day in New York and front-runners...  REAL  \n",
            "...                                                 ...   ...  \n",
            "6330  The State Department told the Republican Natio...  REAL  \n",
            "6331  The ‘P’ in PBS Should Stand for ‘Plutocratic’ ...  FAKE  \n",
            "6332   Anti-Trump Protesters Are Tools of the Oligar...  FAKE  \n",
            "6333  ADDIS ABABA, Ethiopia —President Obama convene...  REAL  \n",
            "6334  Jeb Bush Is Suddenly Attacking Trump. Here's W...  REAL  \n",
            "\n",
            "[6335 rows x 3 columns]\n"
          ]
        }
      ]
    },
    {
      "cell_type": "code",
      "source": [
        "df.shape"
      ],
      "metadata": {
        "colab": {
          "base_uri": "https://localhost:8080/"
        },
        "id": "KcfPPGQeoR_s",
        "outputId": "9f54b883-af63-4740-9363-97ffb6ecc5b9"
      },
      "execution_count": 60,
      "outputs": [
        {
          "output_type": "execute_result",
          "data": {
            "text/plain": [
              "(6011, 3)"
            ]
          },
          "metadata": {},
          "execution_count": 60
        }
      ]
    },
    {
      "cell_type": "code",
      "source": [
        "df.head(20)"
      ],
      "metadata": {
        "colab": {
          "base_uri": "https://localhost:8080/",
          "height": 676
        },
        "id": "95YbdKgQoe39",
        "outputId": "3472925a-4cd0-4dd3-b33c-f27f6cca4422"
      },
      "execution_count": 61,
      "outputs": [
        {
          "output_type": "execute_result",
          "data": {
            "text/plain": [
              "                                                title  \\\n",
              "0                        You Can Smell Hillary’s Fear   \n",
              "1   Watch The Exact Moment Paul Ryan Committed Pol...   \n",
              "2         Kerry to go to Paris in gesture of sympathy   \n",
              "3   Bernie supporters on Twitter erupt in anger ag...   \n",
              "4    The Battle of New York: Why This Primary Matters   \n",
              "5                                         Tehran, USA   \n",
              "6   Girl Horrified At What She Watches Boyfriend D...   \n",
              "7                   ‘Britain’s Schindler’ Dies at 106   \n",
              "8   Fact check: Trump and Clinton at the 'commande...   \n",
              "9   Iran reportedly makes new push for uranium con...   \n",
              "10  With all three Clintons in Iowa, a glimpse at ...   \n",
              "11  Donald Trump’s Shockingly Weak Delegate Game S...   \n",
              "12  Strong Solar Storm, Tech Risks Today | S0 News...   \n",
              "13       10 Ways America Is Preparing for World War 3   \n",
              "14                   Trump takes on Cruz, but lightly   \n",
              "15                         How women lead differently   \n",
              "16  Shocking! Michele Obama & Hillary Caught Glamo...   \n",
              "17  Hillary Clinton in HUGE Trouble After America ...   \n",
              "18  What's in that Iran bill that Obama doesn't like?   \n",
              "19  The 1 chart that explains everything you need ...   \n",
              "\n",
              "                                                 text label  \n",
              "0   Daniel Greenfield, a Shillman Journalism Fello...  FAKE  \n",
              "1   Google Pinterest Digg Linkedin Reddit Stumbleu...  FAKE  \n",
              "2   U.S. Secretary of State John F. Kerry said Mon...  REAL  \n",
              "3   — Kaydee King (@KaydeeKing) November 9, 2016 T...  FAKE  \n",
              "4   It's primary day in New York and front-runners...  REAL  \n",
              "5     \\nI’m not an immigrant, but my grandparents ...  FAKE  \n",
              "6   Share This Baylee Luciani (left), Screenshot o...  FAKE  \n",
              "7   A Czech stockbroker who saved more than 650 Je...  REAL  \n",
              "8   Hillary Clinton and Donald Trump made some ina...  REAL  \n",
              "9   Iranian negotiators reportedly have made a las...  REAL  \n",
              "10  CEDAR RAPIDS, Iowa — “I had one of the most wo...  REAL  \n",
              "11  Donald Trump’s organizational problems have go...  REAL  \n",
              "12  Click Here To Learn More About Alexandra's Per...  FAKE  \n",
              "13  October 31, 2016 at 4:52 am \\nPretty factual e...  FAKE  \n",
              "14  Killing Obama administration rules, dismantlin...  REAL  \n",
              "15  As more women move into high offices, they oft...  REAL  \n",
              "16  Shocking! Michele Obama & Hillary Caught Glamo...  FAKE  \n",
              "17  0 \\nHillary Clinton has barely just lost the p...  FAKE  \n",
              "18  Washington (CNN) For months, the White House a...  REAL  \n",
              "19  While paging through Pew's best data visualiza...  REAL  "
            ],
            "text/html": [
              "\n",
              "  <div id=\"df-b0d1f95e-4837-45b2-bb7f-88c97b92a66e\" class=\"colab-df-container\">\n",
              "    <div>\n",
              "<style scoped>\n",
              "    .dataframe tbody tr th:only-of-type {\n",
              "        vertical-align: middle;\n",
              "    }\n",
              "\n",
              "    .dataframe tbody tr th {\n",
              "        vertical-align: top;\n",
              "    }\n",
              "\n",
              "    .dataframe thead th {\n",
              "        text-align: right;\n",
              "    }\n",
              "</style>\n",
              "<table border=\"1\" class=\"dataframe\">\n",
              "  <thead>\n",
              "    <tr style=\"text-align: right;\">\n",
              "      <th></th>\n",
              "      <th>title</th>\n",
              "      <th>text</th>\n",
              "      <th>label</th>\n",
              "    </tr>\n",
              "  </thead>\n",
              "  <tbody>\n",
              "    <tr>\n",
              "      <th>0</th>\n",
              "      <td>You Can Smell Hillary’s Fear</td>\n",
              "      <td>Daniel Greenfield, a Shillman Journalism Fello...</td>\n",
              "      <td>FAKE</td>\n",
              "    </tr>\n",
              "    <tr>\n",
              "      <th>1</th>\n",
              "      <td>Watch The Exact Moment Paul Ryan Committed Pol...</td>\n",
              "      <td>Google Pinterest Digg Linkedin Reddit Stumbleu...</td>\n",
              "      <td>FAKE</td>\n",
              "    </tr>\n",
              "    <tr>\n",
              "      <th>2</th>\n",
              "      <td>Kerry to go to Paris in gesture of sympathy</td>\n",
              "      <td>U.S. Secretary of State John F. Kerry said Mon...</td>\n",
              "      <td>REAL</td>\n",
              "    </tr>\n",
              "    <tr>\n",
              "      <th>3</th>\n",
              "      <td>Bernie supporters on Twitter erupt in anger ag...</td>\n",
              "      <td>— Kaydee King (@KaydeeKing) November 9, 2016 T...</td>\n",
              "      <td>FAKE</td>\n",
              "    </tr>\n",
              "    <tr>\n",
              "      <th>4</th>\n",
              "      <td>The Battle of New York: Why This Primary Matters</td>\n",
              "      <td>It's primary day in New York and front-runners...</td>\n",
              "      <td>REAL</td>\n",
              "    </tr>\n",
              "    <tr>\n",
              "      <th>5</th>\n",
              "      <td>Tehran, USA</td>\n",
              "      <td>\\nI’m not an immigrant, but my grandparents ...</td>\n",
              "      <td>FAKE</td>\n",
              "    </tr>\n",
              "    <tr>\n",
              "      <th>6</th>\n",
              "      <td>Girl Horrified At What She Watches Boyfriend D...</td>\n",
              "      <td>Share This Baylee Luciani (left), Screenshot o...</td>\n",
              "      <td>FAKE</td>\n",
              "    </tr>\n",
              "    <tr>\n",
              "      <th>7</th>\n",
              "      <td>‘Britain’s Schindler’ Dies at 106</td>\n",
              "      <td>A Czech stockbroker who saved more than 650 Je...</td>\n",
              "      <td>REAL</td>\n",
              "    </tr>\n",
              "    <tr>\n",
              "      <th>8</th>\n",
              "      <td>Fact check: Trump and Clinton at the 'commande...</td>\n",
              "      <td>Hillary Clinton and Donald Trump made some ina...</td>\n",
              "      <td>REAL</td>\n",
              "    </tr>\n",
              "    <tr>\n",
              "      <th>9</th>\n",
              "      <td>Iran reportedly makes new push for uranium con...</td>\n",
              "      <td>Iranian negotiators reportedly have made a las...</td>\n",
              "      <td>REAL</td>\n",
              "    </tr>\n",
              "    <tr>\n",
              "      <th>10</th>\n",
              "      <td>With all three Clintons in Iowa, a glimpse at ...</td>\n",
              "      <td>CEDAR RAPIDS, Iowa — “I had one of the most wo...</td>\n",
              "      <td>REAL</td>\n",
              "    </tr>\n",
              "    <tr>\n",
              "      <th>11</th>\n",
              "      <td>Donald Trump’s Shockingly Weak Delegate Game S...</td>\n",
              "      <td>Donald Trump’s organizational problems have go...</td>\n",
              "      <td>REAL</td>\n",
              "    </tr>\n",
              "    <tr>\n",
              "      <th>12</th>\n",
              "      <td>Strong Solar Storm, Tech Risks Today | S0 News...</td>\n",
              "      <td>Click Here To Learn More About Alexandra's Per...</td>\n",
              "      <td>FAKE</td>\n",
              "    </tr>\n",
              "    <tr>\n",
              "      <th>13</th>\n",
              "      <td>10 Ways America Is Preparing for World War 3</td>\n",
              "      <td>October 31, 2016 at 4:52 am \\nPretty factual e...</td>\n",
              "      <td>FAKE</td>\n",
              "    </tr>\n",
              "    <tr>\n",
              "      <th>14</th>\n",
              "      <td>Trump takes on Cruz, but lightly</td>\n",
              "      <td>Killing Obama administration rules, dismantlin...</td>\n",
              "      <td>REAL</td>\n",
              "    </tr>\n",
              "    <tr>\n",
              "      <th>15</th>\n",
              "      <td>How women lead differently</td>\n",
              "      <td>As more women move into high offices, they oft...</td>\n",
              "      <td>REAL</td>\n",
              "    </tr>\n",
              "    <tr>\n",
              "      <th>16</th>\n",
              "      <td>Shocking! Michele Obama &amp; Hillary Caught Glamo...</td>\n",
              "      <td>Shocking! Michele Obama &amp; Hillary Caught Glamo...</td>\n",
              "      <td>FAKE</td>\n",
              "    </tr>\n",
              "    <tr>\n",
              "      <th>17</th>\n",
              "      <td>Hillary Clinton in HUGE Trouble After America ...</td>\n",
              "      <td>0 \\nHillary Clinton has barely just lost the p...</td>\n",
              "      <td>FAKE</td>\n",
              "    </tr>\n",
              "    <tr>\n",
              "      <th>18</th>\n",
              "      <td>What's in that Iran bill that Obama doesn't like?</td>\n",
              "      <td>Washington (CNN) For months, the White House a...</td>\n",
              "      <td>REAL</td>\n",
              "    </tr>\n",
              "    <tr>\n",
              "      <th>19</th>\n",
              "      <td>The 1 chart that explains everything you need ...</td>\n",
              "      <td>While paging through Pew's best data visualiza...</td>\n",
              "      <td>REAL</td>\n",
              "    </tr>\n",
              "  </tbody>\n",
              "</table>\n",
              "</div>\n",
              "    <div class=\"colab-df-buttons\">\n",
              "\n",
              "  <div class=\"colab-df-container\">\n",
              "    <button class=\"colab-df-convert\" onclick=\"convertToInteractive('df-b0d1f95e-4837-45b2-bb7f-88c97b92a66e')\"\n",
              "            title=\"Convert this dataframe to an interactive table.\"\n",
              "            style=\"display:none;\">\n",
              "\n",
              "  <svg xmlns=\"http://www.w3.org/2000/svg\" height=\"24px\" viewBox=\"0 -960 960 960\">\n",
              "    <path d=\"M120-120v-720h720v720H120Zm60-500h600v-160H180v160Zm220 220h160v-160H400v160Zm0 220h160v-160H400v160ZM180-400h160v-160H180v160Zm440 0h160v-160H620v160ZM180-180h160v-160H180v160Zm440 0h160v-160H620v160Z\"/>\n",
              "  </svg>\n",
              "    </button>\n",
              "\n",
              "  <style>\n",
              "    .colab-df-container {\n",
              "      display:flex;\n",
              "      gap: 12px;\n",
              "    }\n",
              "\n",
              "    .colab-df-convert {\n",
              "      background-color: #E8F0FE;\n",
              "      border: none;\n",
              "      border-radius: 50%;\n",
              "      cursor: pointer;\n",
              "      display: none;\n",
              "      fill: #1967D2;\n",
              "      height: 32px;\n",
              "      padding: 0 0 0 0;\n",
              "      width: 32px;\n",
              "    }\n",
              "\n",
              "    .colab-df-convert:hover {\n",
              "      background-color: #E2EBFA;\n",
              "      box-shadow: 0px 1px 2px rgba(60, 64, 67, 0.3), 0px 1px 3px 1px rgba(60, 64, 67, 0.15);\n",
              "      fill: #174EA6;\n",
              "    }\n",
              "\n",
              "    .colab-df-buttons div {\n",
              "      margin-bottom: 4px;\n",
              "    }\n",
              "\n",
              "    [theme=dark] .colab-df-convert {\n",
              "      background-color: #3B4455;\n",
              "      fill: #D2E3FC;\n",
              "    }\n",
              "\n",
              "    [theme=dark] .colab-df-convert:hover {\n",
              "      background-color: #434B5C;\n",
              "      box-shadow: 0px 1px 3px 1px rgba(0, 0, 0, 0.15);\n",
              "      filter: drop-shadow(0px 1px 2px rgba(0, 0, 0, 0.3));\n",
              "      fill: #FFFFFF;\n",
              "    }\n",
              "  </style>\n",
              "\n",
              "    <script>\n",
              "      const buttonEl =\n",
              "        document.querySelector('#df-b0d1f95e-4837-45b2-bb7f-88c97b92a66e button.colab-df-convert');\n",
              "      buttonEl.style.display =\n",
              "        google.colab.kernel.accessAllowed ? 'block' : 'none';\n",
              "\n",
              "      async function convertToInteractive(key) {\n",
              "        const element = document.querySelector('#df-b0d1f95e-4837-45b2-bb7f-88c97b92a66e');\n",
              "        const dataTable =\n",
              "          await google.colab.kernel.invokeFunction('convertToInteractive',\n",
              "                                                    [key], {});\n",
              "        if (!dataTable) return;\n",
              "\n",
              "        const docLinkHtml = 'Like what you see? Visit the ' +\n",
              "          '<a target=\"_blank\" href=https://colab.research.google.com/notebooks/data_table.ipynb>data table notebook</a>'\n",
              "          + ' to learn more about interactive tables.';\n",
              "        element.innerHTML = '';\n",
              "        dataTable['output_type'] = 'display_data';\n",
              "        await google.colab.output.renderOutput(dataTable, element);\n",
              "        const docLink = document.createElement('div');\n",
              "        docLink.innerHTML = docLinkHtml;\n",
              "        element.appendChild(docLink);\n",
              "      }\n",
              "    </script>\n",
              "  </div>\n",
              "\n",
              "\n",
              "<div id=\"df-ec88eb09-e68d-4b17-9adb-0f73029251d9\">\n",
              "  <button class=\"colab-df-quickchart\" onclick=\"quickchart('df-ec88eb09-e68d-4b17-9adb-0f73029251d9')\"\n",
              "            title=\"Suggest charts\"\n",
              "            style=\"display:none;\">\n",
              "\n",
              "<svg xmlns=\"http://www.w3.org/2000/svg\" height=\"24px\"viewBox=\"0 0 24 24\"\n",
              "     width=\"24px\">\n",
              "    <g>\n",
              "        <path d=\"M19 3H5c-1.1 0-2 .9-2 2v14c0 1.1.9 2 2 2h14c1.1 0 2-.9 2-2V5c0-1.1-.9-2-2-2zM9 17H7v-7h2v7zm4 0h-2V7h2v10zm4 0h-2v-4h2v4z\"/>\n",
              "    </g>\n",
              "</svg>\n",
              "  </button>\n",
              "\n",
              "<style>\n",
              "  .colab-df-quickchart {\n",
              "      --bg-color: #E8F0FE;\n",
              "      --fill-color: #1967D2;\n",
              "      --hover-bg-color: #E2EBFA;\n",
              "      --hover-fill-color: #174EA6;\n",
              "      --disabled-fill-color: #AAA;\n",
              "      --disabled-bg-color: #DDD;\n",
              "  }\n",
              "\n",
              "  [theme=dark] .colab-df-quickchart {\n",
              "      --bg-color: #3B4455;\n",
              "      --fill-color: #D2E3FC;\n",
              "      --hover-bg-color: #434B5C;\n",
              "      --hover-fill-color: #FFFFFF;\n",
              "      --disabled-bg-color: #3B4455;\n",
              "      --disabled-fill-color: #666;\n",
              "  }\n",
              "\n",
              "  .colab-df-quickchart {\n",
              "    background-color: var(--bg-color);\n",
              "    border: none;\n",
              "    border-radius: 50%;\n",
              "    cursor: pointer;\n",
              "    display: none;\n",
              "    fill: var(--fill-color);\n",
              "    height: 32px;\n",
              "    padding: 0;\n",
              "    width: 32px;\n",
              "  }\n",
              "\n",
              "  .colab-df-quickchart:hover {\n",
              "    background-color: var(--hover-bg-color);\n",
              "    box-shadow: 0 1px 2px rgba(60, 64, 67, 0.3), 0 1px 3px 1px rgba(60, 64, 67, 0.15);\n",
              "    fill: var(--button-hover-fill-color);\n",
              "  }\n",
              "\n",
              "  .colab-df-quickchart-complete:disabled,\n",
              "  .colab-df-quickchart-complete:disabled:hover {\n",
              "    background-color: var(--disabled-bg-color);\n",
              "    fill: var(--disabled-fill-color);\n",
              "    box-shadow: none;\n",
              "  }\n",
              "\n",
              "  .colab-df-spinner {\n",
              "    border: 2px solid var(--fill-color);\n",
              "    border-color: transparent;\n",
              "    border-bottom-color: var(--fill-color);\n",
              "    animation:\n",
              "      spin 1s steps(1) infinite;\n",
              "  }\n",
              "\n",
              "  @keyframes spin {\n",
              "    0% {\n",
              "      border-color: transparent;\n",
              "      border-bottom-color: var(--fill-color);\n",
              "      border-left-color: var(--fill-color);\n",
              "    }\n",
              "    20% {\n",
              "      border-color: transparent;\n",
              "      border-left-color: var(--fill-color);\n",
              "      border-top-color: var(--fill-color);\n",
              "    }\n",
              "    30% {\n",
              "      border-color: transparent;\n",
              "      border-left-color: var(--fill-color);\n",
              "      border-top-color: var(--fill-color);\n",
              "      border-right-color: var(--fill-color);\n",
              "    }\n",
              "    40% {\n",
              "      border-color: transparent;\n",
              "      border-right-color: var(--fill-color);\n",
              "      border-top-color: var(--fill-color);\n",
              "    }\n",
              "    60% {\n",
              "      border-color: transparent;\n",
              "      border-right-color: var(--fill-color);\n",
              "    }\n",
              "    80% {\n",
              "      border-color: transparent;\n",
              "      border-right-color: var(--fill-color);\n",
              "      border-bottom-color: var(--fill-color);\n",
              "    }\n",
              "    90% {\n",
              "      border-color: transparent;\n",
              "      border-bottom-color: var(--fill-color);\n",
              "    }\n",
              "  }\n",
              "</style>\n",
              "\n",
              "  <script>\n",
              "    async function quickchart(key) {\n",
              "      const quickchartButtonEl =\n",
              "        document.querySelector('#' + key + ' button');\n",
              "      quickchartButtonEl.disabled = true;  // To prevent multiple clicks.\n",
              "      quickchartButtonEl.classList.add('colab-df-spinner');\n",
              "      try {\n",
              "        const charts = await google.colab.kernel.invokeFunction(\n",
              "            'suggestCharts', [key], {});\n",
              "      } catch (error) {\n",
              "        console.error('Error during call to suggestCharts:', error);\n",
              "      }\n",
              "      quickchartButtonEl.classList.remove('colab-df-spinner');\n",
              "      quickchartButtonEl.classList.add('colab-df-quickchart-complete');\n",
              "    }\n",
              "    (() => {\n",
              "      let quickchartButtonEl =\n",
              "        document.querySelector('#df-ec88eb09-e68d-4b17-9adb-0f73029251d9 button');\n",
              "      quickchartButtonEl.style.display =\n",
              "        google.colab.kernel.accessAllowed ? 'block' : 'none';\n",
              "    })();\n",
              "  </script>\n",
              "</div>\n",
              "\n",
              "    </div>\n",
              "  </div>\n"
            ],
            "application/vnd.google.colaboratory.intrinsic+json": {
              "type": "dataframe",
              "variable_name": "df",
              "summary": "{\n  \"name\": \"df\",\n  \"rows\": 6011,\n  \"fields\": [\n    {\n      \"column\": \"title\",\n      \"properties\": {\n        \"dtype\": \"string\",\n        \"num_unique_values\": 6011,\n        \"samples\": [\n          \"Bernie Sanders' call for ouster of two convention co-chairs rejected\",\n          \"Hillary FRANTIC As Dirty Secret Implodes, Gets Worse With Prison Bombshell\",\n          \"George P. Bush says father Jeb Bush is \\u2018seriously considering\\u2019 2016 run\"\n        ],\n        \"semantic_type\": \"\",\n        \"description\": \"\"\n      }\n    },\n    {\n      \"column\": \"text\",\n      \"properties\": {\n        \"dtype\": \"string\",\n        \"num_unique_values\": 6011,\n        \"samples\": [\n          \"Democratic National Committee officials on Saturday turned down\\u00a0Bernie Sanders' formal request for\\u00a0the ouster of \\u201caggressive attack surrogates\\u201d for Hillary Clinton from key\\u00a0national convention committees.\\n\\nThe campaign announced earlier that\\u00a0it wanted\\u00a0to remove\\u00a0Connecticut Gov. Dannel Malloy as a co-chairman of the Platform Committee and former Massachusetts Rep. Barney Frank as head of the Rules Committee.\\u00a0Frank\\u00a0has\\u00a0sharply criticized Sanders\\u2019 positions on breaking up big banks and Malloy has criticized Sanders on guns.\\n\\n\\u201cGovernor Malloy and Mr. Frank have both been aggressive attack surrogates for the Clinton campaign,\\u201d Sanders campaign counsel Brad Deutsch\\u00a0wrote in a letter\\u00a0to the party\\u2019s Rules and Bylaws Committee. \\u201cTheir criticisms of Sen. Sanders have gone beyond dispassionate ideological disagreement and have exposed a deeper professional, political and personal hostility toward the senator and his campaign.\\\"\\n\\nBut committee co-chairs Jim Roosevelt and Lorraine Miller responded that his challenge \\\"fails to meet the criteria\\\" for their dismissal. It did not allege any violations in the conduct of their elections to their posts by the DNC executive committee in January, they wrote.\\n\\nThe Sanders campaign\\u2019s Friday letter to Democratic National Committee rules officials marks the latest turn in Sanders\\u2019 feud with party officials. It comes a week after Sanders said he would make sure Rep. Debbie Wasserman Schultz of Florida isn\\u2019t reappointed to her role as head of the DNC if he becomes president and he began fundraising for her primary opponent, Tim Canova.\\n\\nMost members of the convention standing committees \\u2014 rules, platform and credentials\\u00a0\\u2014\\u00a0are awarded to candidates based on the results of those primaries and caucuses.\\u00a0But under party rules, Wasserman Schultz recommended co-chairs and a slate of 25 at-large appointments per committee for approval by the party\\u2019s executive committee.\\n\\nIn a May 6 letter to Wasserman Schultz, Sanders complained she selected only three of his more than 40 recommendations for committee appointments, and he expressed no confidence in Malloy or Frank, writing their appointments suggest\\u00a0the committees are being established \\u201cin an overtly partisan way.\\u201d\\n\\nDeutsch argued Friday that Frank and Malloy can\\u2019t be relied upon to perform convention duties fairly \\u201cwhile laboring under such deeply held bias.\\u201d\\n\\n\\u201cThe appointment of two individuals so outspokenly critical of Sen. Sanders, and so closely affiliated with Secretary Clinton's campaign, raises concerns that two of the three Convention Standing Committees are being constituted in an overtly partisan way designed to exclude meaningful input from supporters of Sen. Sanders' candidacy,\\u201d Deutsch wrote.\\n\\nIn April, Tad Devine, Sanders\\u2019 senior adviser, said Frank is among surrogates for Hillary Clinton who used Sanders\\u2019 remarks to a New York\\u00a0Daily News editorial board on April 1 to promote a story line that questions Sanders\\u2019 capacity to be president.\\u00a0Devine pointed to Frank\\u2019s April 6 statements on MSNBC that Sanders \\u201cconfused several things\\u201d in his responses to questions about his core issue of breaking up big banks. Frank also said Sanders\\u2019 responses to the editorial board were not \\u201ccoherent.\\u201d\\n\\nFrank\\u00a0said in an April interview with USA TODAY that he would step aside from his co-chairmanship if the Democratic nomination is still uncertain in June and if a Rules Committee decision could be the deciding factor. With Clinton's decisive lead in delegates, that appears unlikely.\\n\\nA Connecticut Democratic Party spokesman told USA TODAY earlier this month that Malloy\\u00a0agrees with Sanders on many issues. On Saturday, Leigh Appleby said Malloy is committed to a platform and process reflective of the party's diverse viewpoints.\\n\\n\\\"This year's Democratic platform process is making an unprecedented effort to ensure the process is reflective of the entire party and that every Democrat has an opportunity to have their voice heard in a meaningful way,\\\" Appleby said in a statement. \\\"And at the end of the day, Democats will put forward a platform that stands in stark contrast to the hateful, divisive, and dangerous policies of Donald Trump.\\\"\",\n          \"Share This \\nHillary Clinton thought her email scandal was in the rearview mirror, but it just blew up in her face days before the election. Unfortunately for her, everything just got worse as a bombshell just exploded \\u2013 and seeing how the topic is about prison, it looks like things are about to get juicy. \\nThere\\u2019s no doubt that Hillary is as crooked as they come. Although the left would have you believe otherwise, with the presidential hopeful all but admitting her criminal acts, not too many people believe them. \\nHowever, things just got a lot worse for Hillary, but his time, it\\u2019s not only her presidential campaign that\\u2019s in jeopardy. According to The Economic Collapse , Hillary Clinton is looking at a whopping 20 years behind bars if she\\u2019s convicted of \\u201cobstruction of justice\\u201d \\u2013 a term that could very well be a life sentence for a woman of her age. A sight we may get to see soon, and one that Hillary Clinton rightfully deserves \\nAs of this point, no one is mentioning the phrase \\u201cobstruction of justice,\\u201d but that doesn\\u2019t mean the idea isn\\u2019t floating out there. In fact, when you look at the actual definition of the term in regards to the Federal statute, you start to get a better idea of just how guilty Hillary is: \\nWhoever knowingly alters, destroys, mutilates, conceals, covers up, falsified, or makes a false entry in any record, document, or tangible object with the intent to impede, obstruct, or influence the investigation or proper administration of any matter within the jurisdiction of any department or agency of the United States or any case filed under Title 11, or in relation to or contemplation of any such matter or case, shall be fined under this title, imprisoned not more than 20 years, or both. \\nWe already know that Hillary is guilty of trying to cover this up. Not only did she delete and \\u201cbleachbit\\u201d her server in a desperate attempt to block the FBI from finding out her dirty little secret, but then she said she didn\\u2019t have the emails they were looking for. \\nOf course, when others stumbled across the mythical 33,000 emails, things started to take a turn \\u2013 and it all just got worse. According to The Wall Street Journal , the FBI now has another 650,000 emails to sort through with about 10,000 pertinent to Hillary\\u2019s case. Things aren\\u2019t looking so good for Hillary Clinton \\nWhy did FBI Director James Comey find the need to come forward with this information so close to the election? Well, as it turns out, the answer is rather simple \\u2013 redemption. \\nAccording to a Daily Mail article written by Ed Klein, the author of a bestseller about the Clintons entitled Guilty As Sin , it seems as though Comey was suffering for letting off Hillary so easy. As explained by Klein: \\n\\u201cSome people, including department heads, stopped talking to Jim, and even ignored his greetings when they passed him in the hall,\\u201d said the source. \\u2018They felt that he betrayed them and brought disgrace on the bureau by letting Hillary off with a slap on the wrist. He told his wife that he was depressed by the stack of resignation letters piling up on his desk from disaffected agents. The letters reminded him every day that morale in the FBI had hit rock bottom.\\u201d \\nFurther speculation pertaining to Comey\\u2019s reasoning seems to indicate that the urgency here stems from the information actually found. Knowing just how much the release would impact the election, one can only assume that Comey was only comfortable in doing so as someone had already found something really big. \\nThe fact of the matter is, people had lost faith in justice after Comey\\u2019s dismissal of Hillary\\u2019s charges. After proving that power meant exclusion from the law, it seems as though the FBI Director is trying to right that wrong today. Furthermore, as there seems to be something of substantive nature, Hillary can expect to be facing 20 years behind bars \\u2013 a sentence a great many people would feel is justified.\",\n          \"George P. Bush, the son of former Florida governor Jeb Bush (R), said Sunday on ABC's \\\"This Week\\\" that his father is seriously considering a presidential run in 2016.\\n\\n\\\"I think it's more than likely that he's giving this serious thought in moving forward ... that he'll run,\\\" he said.\\n\\nBush also said the family \\\"would be behind [Jeb Bush]\\u00a0100 percent if he decides to\\\" run.\"\n        ],\n        \"semantic_type\": \"\",\n        \"description\": \"\"\n      }\n    },\n    {\n      \"column\": \"label\",\n      \"properties\": {\n        \"dtype\": \"category\",\n        \"num_unique_values\": 2,\n        \"samples\": [\n          \"REAL\",\n          \"FAKE\"\n        ],\n        \"semantic_type\": \"\",\n        \"description\": \"\"\n      }\n    }\n  ]\n}"
            }
          },
          "metadata": {},
          "execution_count": 61
        }
      ]
    },
    {
      "cell_type": "code",
      "source": [],
      "metadata": {
        "id": "O8EG0fkAo-fY"
      },
      "execution_count": null,
      "outputs": []
    }
  ]
}