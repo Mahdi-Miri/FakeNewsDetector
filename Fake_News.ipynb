{
  "nbformat": 4,
  "nbformat_minor": 0,
  "metadata": {
    "colab": {
      "provenance": [],
      "authorship_tag": "ABX9TyPjkPMfZJwpsMIigmX/Y5v2",
      "include_colab_link": true
    },
    "kernelspec": {
      "name": "python3",
      "display_name": "Python 3"
    },
    "language_info": {
      "name": "python"
    }
  },
  "cells": [
    {
      "cell_type": "markdown",
      "metadata": {
        "id": "view-in-github",
        "colab_type": "text"
      },
      "source": [
        "<a href=\"https://colab.research.google.com/github/Mahdi-Miri/FakeNewsDetector/blob/main/Fake_News.ipynb\" target=\"_parent\"><img src=\"https://colab.research.google.com/assets/colab-badge.svg\" alt=\"Open In Colab\"/></a>"
      ]
    },
    {
      "cell_type": "code",
      "source": [
        "!pip install kagglehub numpy pandas scikit-learn nltk matplotlib\n",
        "import nltk\n",
        "import kagglehub\n",
        "import pandas as pd\n",
        "import os\n",
        "nltk.download('punkt')\n",
        "nltk.download('stopwords')\n",
        "nltk.download('wordnet')"
      ],
      "metadata": {
        "id": "rzK7gQ94HfLM",
        "colab": {
          "base_uri": "https://localhost:8080/"
        },
        "outputId": "7b4ef4b0-ec2d-4808-a968-70d69e3bec78"
      },
      "execution_count": 11,
      "outputs": [
        {
          "output_type": "stream",
          "name": "stdout",
          "text": [
            "Requirement already satisfied: kagglehub in /usr/local/lib/python3.11/dist-packages (0.3.10)\n",
            "Requirement already satisfied: numpy in /usr/local/lib/python3.11/dist-packages (2.0.2)\n",
            "Requirement already satisfied: pandas in /usr/local/lib/python3.11/dist-packages (2.2.2)\n",
            "Requirement already satisfied: scikit-learn in /usr/local/lib/python3.11/dist-packages (1.6.1)\n",
            "Requirement already satisfied: nltk in /usr/local/lib/python3.11/dist-packages (3.9.1)\n",
            "Requirement already satisfied: matplotlib in /usr/local/lib/python3.11/dist-packages (3.10.0)\n",
            "Requirement already satisfied: packaging in /usr/local/lib/python3.11/dist-packages (from kagglehub) (24.2)\n",
            "Requirement already satisfied: pyyaml in /usr/local/lib/python3.11/dist-packages (from kagglehub) (6.0.2)\n",
            "Requirement already satisfied: requests in /usr/local/lib/python3.11/dist-packages (from kagglehub) (2.32.3)\n",
            "Requirement already satisfied: tqdm in /usr/local/lib/python3.11/dist-packages (from kagglehub) (4.67.1)\n",
            "Requirement already satisfied: python-dateutil>=2.8.2 in /usr/local/lib/python3.11/dist-packages (from pandas) (2.8.2)\n",
            "Requirement already satisfied: pytz>=2020.1 in /usr/local/lib/python3.11/dist-packages (from pandas) (2025.2)\n",
            "Requirement already satisfied: tzdata>=2022.7 in /usr/local/lib/python3.11/dist-packages (from pandas) (2025.2)\n",
            "Requirement already satisfied: scipy>=1.6.0 in /usr/local/lib/python3.11/dist-packages (from scikit-learn) (1.14.1)\n",
            "Requirement already satisfied: joblib>=1.2.0 in /usr/local/lib/python3.11/dist-packages (from scikit-learn) (1.4.2)\n",
            "Requirement already satisfied: threadpoolctl>=3.1.0 in /usr/local/lib/python3.11/dist-packages (from scikit-learn) (3.6.0)\n",
            "Requirement already satisfied: click in /usr/local/lib/python3.11/dist-packages (from nltk) (8.1.8)\n",
            "Requirement already satisfied: regex>=2021.8.3 in /usr/local/lib/python3.11/dist-packages (from nltk) (2024.11.6)\n",
            "Requirement already satisfied: contourpy>=1.0.1 in /usr/local/lib/python3.11/dist-packages (from matplotlib) (1.3.1)\n",
            "Requirement already satisfied: cycler>=0.10 in /usr/local/lib/python3.11/dist-packages (from matplotlib) (0.12.1)\n",
            "Requirement already satisfied: fonttools>=4.22.0 in /usr/local/lib/python3.11/dist-packages (from matplotlib) (4.56.0)\n",
            "Requirement already satisfied: kiwisolver>=1.3.1 in /usr/local/lib/python3.11/dist-packages (from matplotlib) (1.4.8)\n",
            "Requirement already satisfied: pillow>=8 in /usr/local/lib/python3.11/dist-packages (from matplotlib) (11.1.0)\n",
            "Requirement already satisfied: pyparsing>=2.3.1 in /usr/local/lib/python3.11/dist-packages (from matplotlib) (3.2.3)\n",
            "Requirement already satisfied: six>=1.5 in /usr/local/lib/python3.11/dist-packages (from python-dateutil>=2.8.2->pandas) (1.17.0)\n",
            "Requirement already satisfied: charset-normalizer<4,>=2 in /usr/local/lib/python3.11/dist-packages (from requests->kagglehub) (3.4.1)\n",
            "Requirement already satisfied: idna<4,>=2.5 in /usr/local/lib/python3.11/dist-packages (from requests->kagglehub) (3.10)\n",
            "Requirement already satisfied: urllib3<3,>=1.21.1 in /usr/local/lib/python3.11/dist-packages (from requests->kagglehub) (2.3.0)\n",
            "Requirement already satisfied: certifi>=2017.4.17 in /usr/local/lib/python3.11/dist-packages (from requests->kagglehub) (2025.1.31)\n"
          ]
        },
        {
          "output_type": "stream",
          "name": "stderr",
          "text": [
            "[nltk_data] Downloading package punkt to /root/nltk_data...\n",
            "[nltk_data]   Package punkt is already up-to-date!\n",
            "[nltk_data] Downloading package stopwords to /root/nltk_data...\n",
            "[nltk_data]   Package stopwords is already up-to-date!\n",
            "[nltk_data] Downloading package wordnet to /root/nltk_data...\n",
            "[nltk_data]   Package wordnet is already up-to-date!\n"
          ]
        },
        {
          "output_type": "execute_result",
          "data": {
            "text/plain": [
              "True"
            ]
          },
          "metadata": {},
          "execution_count": 11
        }
      ]
    },
    {
      "cell_type": "code",
      "source": [
        "dataset_path = kagglehub.dataset_download(\"hassanamin/textdb3\")\n",
        "\n",
        "print(\"Files in dataset:\", os.listdir(dataset_path))"
      ],
      "metadata": {
        "colab": {
          "base_uri": "https://localhost:8080/"
        },
        "id": "iV9bJC25h9V9",
        "outputId": "aac7ef14-990d-4832-a90e-12fa29a50e62"
      },
      "execution_count": 12,
      "outputs": [
        {
          "output_type": "stream",
          "name": "stdout",
          "text": [
            "Files in dataset: ['fake_or_real_news.csv']\n"
          ]
        }
      ]
    },
    {
      "cell_type": "code",
      "source": [
        "csv_file = [f for f in os.listdir(dataset_path) if f.endswith(\".csv\")][0]\n",
        "csv_path = os.path.join(dataset_path, csv_file)"
      ],
      "metadata": {
        "id": "nSgPjaoCiBSc"
      },
      "execution_count": 13,
      "outputs": []
    },
    {
      "cell_type": "code",
      "source": [
        "df = pd.read_csv(csv_path)"
      ],
      "metadata": {
        "id": "ft4DK49ugr93"
      },
      "execution_count": 15,
      "outputs": []
    },
    {
      "cell_type": "code",
      "source": [
        "print(df.head())"
      ],
      "metadata": {
        "colab": {
          "base_uri": "https://localhost:8080/"
        },
        "id": "GdYzcD9phK4s",
        "outputId": "59dfb590-8616-4263-ac7a-d5f623293f96"
      },
      "execution_count": 16,
      "outputs": [
        {
          "output_type": "stream",
          "name": "stdout",
          "text": [
            "   Unnamed: 0                                              title  \\\n",
            "0        8476                       You Can Smell Hillary’s Fear   \n",
            "1       10294  Watch The Exact Moment Paul Ryan Committed Pol...   \n",
            "2        3608        Kerry to go to Paris in gesture of sympathy   \n",
            "3       10142  Bernie supporters on Twitter erupt in anger ag...   \n",
            "4         875   The Battle of New York: Why This Primary Matters   \n",
            "\n",
            "                                                text label  \n",
            "0  Daniel Greenfield, a Shillman Journalism Fello...  FAKE  \n",
            "1  Google Pinterest Digg Linkedin Reddit Stumbleu...  FAKE  \n",
            "2  U.S. Secretary of State John F. Kerry said Mon...  REAL  \n",
            "3  — Kaydee King (@KaydeeKing) November 9, 2016 T...  FAKE  \n",
            "4  It's primary day in New York and front-runners...  REAL  \n"
          ]
        }
      ]
    },
    {
      "cell_type": "code",
      "source": [
        "df.shape"
      ],
      "metadata": {
        "colab": {
          "base_uri": "https://localhost:8080/"
        },
        "id": "g-bMetngiLTv",
        "outputId": "be0f6b61-173c-4e05-fc3e-b81c7e16e6ce"
      },
      "execution_count": 17,
      "outputs": [
        {
          "output_type": "execute_result",
          "data": {
            "text/plain": [
              "(6335, 4)"
            ]
          },
          "metadata": {},
          "execution_count": 17
        }
      ]
    },
    {
      "cell_type": "code",
      "source": [
        "df.info()"
      ],
      "metadata": {
        "colab": {
          "base_uri": "https://localhost:8080/"
        },
        "id": "ZAZJRRG4iWrD",
        "outputId": "73dfe69c-5396-4624-9a23-a4640410bf76"
      },
      "execution_count": 18,
      "outputs": [
        {
          "output_type": "stream",
          "name": "stdout",
          "text": [
            "<class 'pandas.core.frame.DataFrame'>\n",
            "RangeIndex: 6335 entries, 0 to 6334\n",
            "Data columns (total 4 columns):\n",
            " #   Column      Non-Null Count  Dtype \n",
            "---  ------      --------------  ----- \n",
            " 0   Unnamed: 0  6335 non-null   int64 \n",
            " 1   title       6335 non-null   object\n",
            " 2   text        6335 non-null   object\n",
            " 3   label       6335 non-null   object\n",
            "dtypes: int64(1), object(3)\n",
            "memory usage: 198.1+ KB\n"
          ]
        }
      ]
    },
    {
      "cell_type": "code",
      "source": [
        "import pandas as pd\n",
        "print(df.isna())\n",
        "print(df.isna().sum())"
      ],
      "metadata": {
        "colab": {
          "base_uri": "https://localhost:8080/"
        },
        "id": "ShhkESEbi3Wz",
        "outputId": "660e94ee-4b44-4f27-ac0d-e43a9820420c"
      },
      "execution_count": 21,
      "outputs": [
        {
          "output_type": "stream",
          "name": "stdout",
          "text": [
            "      Unnamed: 0  title   text  label\n",
            "0          False  False  False  False\n",
            "1          False  False  False  False\n",
            "2          False  False  False  False\n",
            "3          False  False  False  False\n",
            "4          False  False  False  False\n",
            "...          ...    ...    ...    ...\n",
            "6330       False  False  False  False\n",
            "6331       False  False  False  False\n",
            "6332       False  False  False  False\n",
            "6333       False  False  False  False\n",
            "6334       False  False  False  False\n",
            "\n",
            "[6335 rows x 4 columns]\n",
            "Unnamed: 0    0\n",
            "title         0\n",
            "text          0\n",
            "label         0\n",
            "dtype: int64\n"
          ]
        }
      ]
    },
    {
      "cell_type": "code",
      "source": [
        "import seaborn as sns\n",
        "import matplotlib.pyplot as plt\n",
        "\n",
        "sns.heatmap(df.isna(), cmap=\"viridis\", cbar=False, yticklabels=False)\n",
        "plt.show()\n"
      ],
      "metadata": {
        "colab": {
          "base_uri": "https://localhost:8080/",
          "height": 430
        },
        "id": "S5cmvRcVicUV",
        "outputId": "4ad32a19-6417-43ad-b169-cf88ee1783dc"
      },
      "execution_count": 19,
      "outputs": [
        {
          "output_type": "display_data",
          "data": {
            "text/plain": [
              "<Figure size 640x480 with 1 Axes>"
            ],
            "image/png": "[encoded data removed]"
          },
          "metadata": {}
        }
      ]
    },
    {
      "cell_type": "code",
      "source": [
        "print(df['label'].value_counts())"
      ],
      "metadata": {
        "colab": {
          "base_uri": "https://localhost:8080/"
        },
        "id": "lmEOAojPi13Z",
        "outputId": "53dce546-6cce-4eba-bcf9-ce8545b7de40"
      },
      "execution_count": 22,
      "outputs": [
        {
          "output_type": "stream",
          "name": "stdout",
          "text": [
            "label\n",
            "REAL    3171\n",
            "FAKE    3164\n",
            "Name: count, dtype: int64\n"
          ]
        }
      ]
    },
    {
      "cell_type": "code",
      "source": [
        "df.columns.tolist()"
      ],
      "metadata": {
        "colab": {
          "base_uri": "https://localhost:8080/"
        },
        "id": "i5ONPD0Nkrbt",
        "outputId": "ba35564b-05e2-4aa5-e600-30479f3736b5"
      },
      "execution_count": 25,
      "outputs": [
        {
          "output_type": "execute_result",
          "data": {
            "text/plain": [
              "['Unnamed: 0', 'title', 'text', 'label']"
            ]
          },
          "metadata": {},
          "execution_count": 25
        }
      ]
    },
    {
      "cell_type": "code",
      "source": [
        "df = df.drop('Unnamed: 0', axis=1)"
      ],
      "metadata": {
        "id": "IaDdQrClj1jw"
      },
      "execution_count": 26,
      "outputs": []
    },
    {
      "cell_type": "code",
      "source": [
        "df.columns.tolist()"
      ],
      "metadata": {
        "colab": {
          "base_uri": "https://localhost:8080/"
        },
        "id": "netvw6ElkiPe",
        "outputId": "8ae43b5e-b6be-4848-c1a9-894f7fdcdf2d"
      },
      "execution_count": 27,
      "outputs": [
        {
          "output_type": "execute_result",
          "data": {
            "text/plain": [
              "['title', 'text', 'label']"
            ]
          },
          "metadata": {},
          "execution_count": 27
        }
      ]
    },
    {
      "cell_type": "code",
      "source": [
        "columns_to_check = ['title', 'text']\n",
        "\n",
        "for column in columns_to_check:\n",
        "    duplicate_rows = df[column].duplicated()\n",
        "    if duplicate_rows.any():\n",
        "        print(f\"Duplicate values found in column '{column}'.\")\n",
        "        print(f\"Number of duplicate values in column '{column}': {duplicate_rows.sum()}\")\n",
        "\n",
        "    else:\n",
        "        print(f\"No duplicate values found in column '{column}'.\")\n",
        "\n",
        "duplicate_all = df[df.duplicated(subset=['title','text'])]\n",
        "if not duplicate_all.empty:\n",
        "    print(f\"Duplicate rows found in the combination of 'title' and 'text'.\")\n",
        "    print(duplicate_all)\n",
        "else:\n",
        "    print(f\"No duplicate rows found in the combination of 'title' and 'text'.\")\n"
      ],
      "metadata": {
        "id": "GiBgAAlnmEV5",
        "outputId": "1d286e9f-46cd-49dc-9204-82d4e7470eea",
        "colab": {
          "base_uri": "https://localhost:8080/"
        }
      },
      "execution_count": 32,
      "outputs": [
        {
          "output_type": "stream",
          "name": "stdout",
          "text": [
            "Duplicate values found in column 'title'.\n",
            "Number of duplicate values in column 'title': 79\n",
            "Duplicate values found in column 'text'.\n",
            "Number of duplicate values in column 'text': 275\n",
            "Duplicate rows found in the combination of 'title' and 'text'.\n",
            "                                                  title  \\\n",
            "1492  University of Missouri, please immediately fir...   \n",
            "1954  Loretta Lynch becomes first African-American w...   \n",
            "2336  Obamacare Enrollees Anxiously Await Supreme Co...   \n",
            "2856  Donald Trump is blatantly racist — and the med...   \n",
            "2952       Black Agenda Report for Week of Oct 31, 2016   \n",
            "3081    The College Loan Bombshell Hidden in the Budget   \n",
            "3292  This astonishing chart shows how moderate Repu...   \n",
            "3301                      OnPolitics | 's politics blog   \n",
            "3324  Senate GOP prepared to replace Obamacare subsi...   \n",
            "4140  We Republicans Lost On Gay Rights. That’s A Go...   \n",
            "4405  Paintings 'almost no one else seemed to be doing'   \n",
            "4885  An Open Letter to Black South African Police O...   \n",
            "4971      US faces calls to ‘walk away’ from Iran talks   \n",
            "5083     Fighting Ghost Fascists While Aiding Real Ones   \n",
            "5105  Clinton clinches Democratic nomination – Sande...   \n",
            "5127                      OnPolitics | 's politics blog   \n",
            "5414  Do Democrats Want What Bernie Wants, Or Just W...   \n",
            "5417        Black Agenda Radio for Week of Nov. 7, 2016   \n",
            "5478  FEAR OF TRUMP: BUSH, OBAMA, CLINTON ALL BUYING...   \n",
            "5500  Saudi ambassador to the UAE: Any contact with ...   \n",
            "5536  Anti-Trump forces seek last-ditch delegate revolt   \n",
            "5627  Clinton clearing primary field for potential 2...   \n",
            "5705  Political polarization is getting worse. Every...   \n",
            "5916  Is it possible that Saudi King be tried in US ...   \n",
            "5966  There’s a good reason protesters at the Univer...   \n",
            "6083  Biden Blames “Lazy American Women” For The Eco...   \n",
            "6148  Hillary’s “Big Tent” is Obama’s “Grand Bargain...   \n",
            "6227  ISIS uses an industrial dough kneader to kill ...   \n",
            "6233  North Korea Threatens ‘Sacred’ Nuclear War Aga...   \n",
            "\n",
            "                                                   text label  \n",
            "1492  To watch the video of photographer Tim Tai get...  REAL  \n",
            "1954  Washington (CNN) Loretta Lynch was sworn in as...  REAL  \n",
            "2336  “I’ve got my six-month, regular cancer checkup...  REAL  \n",
            "2856  Donald Trump, the actual Republican candidate ...  REAL  \n",
            "2952  News, information and analysis from the black ...  FAKE  \n",
            "3081  In obscure data tables buried deep in its 2016...  REAL  \n",
            "3292  Political scientists have known for years that...  REAL  \n",
            "3301  Who has Trump appointed to his cabinet so far?...  REAL  \n",
            "3324  Killing Obama administration rules, dismantlin...  REAL  \n",
            "4140  I’m not among those Republicans who have “evol...  REAL  \n",
            "4405  Print \\nWhen Judith Gait met “Father X,” it wa...  FAKE  \n",
            "4885  Tweet Widget by Black Power Front \\nWith stude...  FAKE  \n",
            "4971  A leading Republican critic of the Iranian nuc...  REAL  \n",
            "5083  2016 presidential campaign by BAR executive ed...  FAKE  \n",
            "5105  Hillary Clinton clinched the Democratic presid...  REAL  \n",
            "5127  Who has Trump appointed to his cabinet so far?...  REAL  \n",
            "5414  Do Democrats Want What Bernie Wants, Or Just W...  REAL  \n",
            "5417  News, information and analysis from the black ...  FAKE  \n",
            "5478  Email \\n\\nIt appears Bill and Hillary Clinton ...  FAKE  \n",
            "5500  Email \\n\\nAccording to a report by an Emirati ...  FAKE  \n",
            "5536  Washington (CNN) The faction of the GOP that i...  REAL  \n",
            "5627  Hillary Clinton appears to have scared away mu...  REAL  \n",
            "5705  You've probably seen this chart.\\n\\nIt uses an...  REAL  \n",
            "5916  Email \\n\\nAccording to the JASTA law which all...  FAKE  \n",
            "5966  Video of a confrontation between a news photog...  REAL  \n",
            "6083  Email \\n\\nDemocratic Vice President Joe Biden ...  FAKE  \n",
            "6148  2016 presidential campaign by BAR executive ed...  FAKE  \n",
            "6227  Email \\nISIS barbarians used an industrial dou...  FAKE  \n",
            "6233  Email \\nNorth Korea’s Foreign Ministry slammed...  FAKE  \n"
          ]
        }
      ]
    },
    {
      "cell_type": "code",
      "source": [
        "duplicated_titles = df[df['title'].duplicated(keep=False)]['title']\n",
        "\n",
        "if not duplicated_titles.empty:\n",
        "    print(\"Duplicate values in the 'title' column:\")\n",
        "    print(duplicated_titles.unique())\n",
        "else:\n",
        "    print(\"No duplicate values found in the 'title' column.\")"
      ],
      "metadata": {
        "id": "awfoTms7mhxM",
        "outputId": "399d9246-67f5-40ff-e91c-5a3ccaa86560",
        "colab": {
          "base_uri": "https://localhost:8080/"
        }
      },
      "execution_count": 33,
      "outputs": [
        {
          "output_type": "stream",
          "name": "stdout",
          "text": [
            "Duplicate values in the 'title' column:\n",
            "['Anti-Trump forces seek last-ditch delegate revolt'\n",
            " 'Loretta Lynch becomes first African-American woman AG.'\n",
            " 'Syrian War Report – November 2, 2016: ISIS and Al-Nusra Attempt to Cut Off Govt Supply Line to Aleppo'\n",
            " 'The Fix Is In: NBC Affiliate Accidentally Posts Election Results A Week Early: Hillary Wins Presidency 42% to Trump’s 40%'\n",
            " 'Do Democrats Want What Bernie Wants, Or Just What Bernie Has?'\n",
            " 'US abstains from UN vote calling for end to Cuban embargo'\n",
            " 'Get Ready For Civil Unrest: Survey Finds That Most Americans Are Concerned About Election Violence'\n",
            " 'Meteor, space junk, rocket? Mysterious flash hits Siberia'\n",
            " 'Hillary’s “Big Tent” is Obama’s “Grand Bargain” on Steroids'\n",
            " 'Collusion Between Facebook and Hillary’s Campaign Revealed in Clinton Emails'\n",
            " 'The Dark Agenda Behind Globalism And Open Borders'\n",
            " 'Michael Moore Owes Me $4.99'\n",
            " 'Guardian Front Page: “A 16-Year-Old Migrant Cries…”'\n",
            " \"OnPolitics | 's politics blog\"\n",
            " '18 State Swat Team Drill In Prep for Backlash Against a Stolen Election'\n",
            " 'The United States Is Pre-Positioning “Enemy Assets” In Preparation For A Rigged Election'\n",
            " \"Cruz's immigration gambit\" 'The Israeli Trumpess'\n",
            " 'US faces calls to ‘walk away’ from Iran talks'\n",
            " 'Sex and the Presidential City'\n",
            " 'University of Missouri, please immediately fire employees who taunted media'\n",
            " 'Clintons Are Under Multiple FBI Investigations as Agents Are Stymied'\n",
            " 'Black Agenda Radio for Week of Nov. 7, 2016'\n",
            " 'Media Roll Out Welcome Mat for ‘Humanitarian’ War in Syria'\n",
            " 'John Podesta’s New Global Order'\n",
            " 'There’s a good reason protesters at the University of Missouri didn’t want the media around'\n",
            " 'Donald Trump is blatantly racist — and the media is too scared to call him out on it'\n",
            " 'North Korea Threatens ‘Sacred’ Nuclear War Against Israel if this country continue supporting ISIS'\n",
            " 'American Dream, Revisited'\n",
            " 'This astonishing chart shows how moderate Republicans are an endangered species'\n",
            " 'Tony Blair suggests a second referendum to reverse Brexit'\n",
            " 'What is going on with WikiLeaks?'\n",
            " 'Iraqis in Mosul Find US Missiles at Captured Islamic State Base'\n",
            " 'The Story of How the DOJ Tried to Thwart an FBI Investigation Into the Clinton Foundation'\n",
            " 'The College Loan Bombshell Hidden in the Budget'\n",
            " 'Trump and all the other far right leaders are Zionist stooges'\n",
            " 'Fighting Ghost Fascists While Aiding Real Ones'\n",
            " 'WHO Cancer Agency Under Fire for withholding ‘carcinogenic glyphosate’ Documents'\n",
            " 'Obamacare Enrollees Anxiously Await Supreme Court Decision That Threatens Their Coverage'\n",
            " 'Senate GOP prepared to replace Obamacare subsidies'\n",
            " 'Black Agenda Report for Week of Oct 31, 2016'\n",
            " \"Project Veritas 4: Robert Creamer's Illegal $20,000 Foreign Wire Transfer Caught On Tape\"\n",
            " 'One Veteran’s War on Islamophobia'\n",
            " 'Not Guilty: The Power of Nullification to Counteract Government Tyranny'\n",
            " 'The Only Way to Save the World is to Save Yourself'\n",
            " 'Police arrest 141 in crackdown on North Dakota pipeline protesters'\n",
            " 'After terrorizing America with Zika scaremongering, Washington Post now admits Zika virus doesn’t cause brain deformities after all'\n",
            " \"Democratic debate: 's Reality Check team inspects the claims\"\n",
            " 'Democratic debate: 6 takeaways'\n",
            " '6 Natural Herbs To Prevent Mental Disorders'\n",
            " 'We Republicans Lost On Gay Rights. That’s A Good Thing.'\n",
            " 'Assange claims ‘crazed’ Clinton campaign tried to hack WikiLeaks'\n",
            " \"Paintings 'almost no one else seemed to be doing'\"\n",
            " 'Former DEA Prescription Head Drops a BombShell — Congress Protects Big Pharma & Fuels Opioid Crisis'\n",
            " 'Hillary is So Unpopular, She Has to Pay Off Youth Voters and Fabricate Her Rallies'\n",
            " 'An Open Letter to Black South African Police Officers'\n",
            " 'Will Barack Obama Delay Or Suspend The Election If Hillary Is Forced Out By The New FBI Email Investigation?'\n",
            " 'Constitutional Law Expert: Comey Did NOT Violate Law By Announcing Email Investigation'\n",
            " 'Political polarization is getting worse. Everywhere.'\n",
            " 'Goldman Sachs Endorses Hillary Clinton For President'\n",
            " 'US Secret Service Struggles To Find Recruits Who Haven’t Used Adderall'\n",
            " 'Clinton clearing primary field for potential 2016 run could leave her vulnerable'\n",
            " 'Schools All Over America Are Closing On Election Day Due To Fears Of Violence'\n",
            " 'Progressives Find ‘White Trash’ More Threatening Than Nuclear War'\n",
            " 'FEAR OF TRUMP: BUSH, OBAMA, CLINTON ALL BUYING PROPERTY IN NON-EXTRADITION NATIONS'\n",
            " 'An Identity-Politicized Election and World Series Lakefront Liberals Can Love'\n",
            " 'Is it possible that Saudi King be tried in US courts by JASTA Law?'\n",
            " 'Clinton clinches Democratic nomination – Sanders vows to fight on'\n",
            " 'Saudi ambassador to the UAE: Any contact with Iran, Iraq, Syria, and Lebanon should be checked'\n",
            " 'All Governments Lie, The Movie'\n",
            " 'The Deceptive Nature of Hillary Clinton is Right in Line with Communism'\n",
            " 'Biden Blames “Lazy American Women” For The Economy: “They Sit Around Doing Nothing, Only Hillary Can Force Them To Work”'\n",
            " 'ISIS uses an industrial dough kneader to kill 250 children, roasts adults in a bakery oven in Douma, Syria']\n"
          ]
        }
      ]
    },
    {
      "cell_type": "code",
      "source": [
        "df_no_duplicates = df.drop_duplicates(subset=['title', 'text'])\n",
        "\n",
        "print(\"DataFrame without duplicate rows:\")\n",
        "print(df_no_duplicates)\n",
        "\n",
        "df = df.drop_duplicates(subset=['title'])\n",
        "\n",
        "print(\"DataFrame without duplicate rows based on 'title' column:\")\n",
        "print(df)\n",
        "\n",
        "df = df.drop_duplicates(subset=['text'])\n",
        "\n",
        "print(\"DataFrame without duplicate rows based on 'text' column:\")\n",
        "print(df)"
      ],
      "metadata": {
        "id": "TG3JB7r3m0oB",
        "outputId": "5b67b7e7-3a5d-418c-9fd8-5b9a128aebb6",
        "colab": {
          "base_uri": "https://localhost:8080/"
        }
      },
      "execution_count": 39,
      "outputs": [
        {
          "output_type": "stream",
          "name": "stdout",
          "text": [
            "DataFrame without duplicate rows:\n",
            "                                                  title  \\\n",
            "0                          You Can Smell Hillary’s Fear   \n",
            "1     Watch The Exact Moment Paul Ryan Committed Pol...   \n",
            "2           Kerry to go to Paris in gesture of sympathy   \n",
            "3     Bernie supporters on Twitter erupt in anger ag...   \n",
            "4      The Battle of New York: Why This Primary Matters   \n",
            "...                                                 ...   \n",
            "6330  State Department says it can't find emails fro...   \n",
            "6331  The ‘P’ in PBS Should Stand for ‘Plutocratic’ ...   \n",
            "6332  Anti-Trump Protesters Are Tools of the Oligarc...   \n",
            "6333  In Ethiopia, Obama seeks progress on peace, se...   \n",
            "6334  Jeb Bush Is Suddenly Attacking Trump. Here's W...   \n",
            "\n",
            "                                                   text label  \n",
            "0     Daniel Greenfield, a Shillman Journalism Fello...  FAKE  \n",
            "1     Google Pinterest Digg Linkedin Reddit Stumbleu...  FAKE  \n",
            "2     U.S. Secretary of State John F. Kerry said Mon...  REAL  \n",
            "3     — Kaydee King (@KaydeeKing) November 9, 2016 T...  FAKE  \n",
            "4     It's primary day in New York and front-runners...  REAL  \n",
            "...                                                 ...   ...  \n",
            "6330  The State Department told the Republican Natio...  REAL  \n",
            "6331  The ‘P’ in PBS Should Stand for ‘Plutocratic’ ...  FAKE  \n",
            "6332   Anti-Trump Protesters Are Tools of the Oligar...  FAKE  \n",
            "6333  ADDIS ABABA, Ethiopia —President Obama convene...  REAL  \n",
            "6334  Jeb Bush Is Suddenly Attacking Trump. Here's W...  REAL  \n",
            "\n",
            "[6306 rows x 3 columns]\n",
            "DataFrame without duplicate rows based on 'title' column:\n",
            "                                                  title  \\\n",
            "0                          You Can Smell Hillary’s Fear   \n",
            "1     Watch The Exact Moment Paul Ryan Committed Pol...   \n",
            "2           Kerry to go to Paris in gesture of sympathy   \n",
            "3     Bernie supporters on Twitter erupt in anger ag...   \n",
            "4      The Battle of New York: Why This Primary Matters   \n",
            "...                                                 ...   \n",
            "6330  State Department says it can't find emails fro...   \n",
            "6331  The ‘P’ in PBS Should Stand for ‘Plutocratic’ ...   \n",
            "6332  Anti-Trump Protesters Are Tools of the Oligarc...   \n",
            "6333  In Ethiopia, Obama seeks progress on peace, se...   \n",
            "6334  Jeb Bush Is Suddenly Attacking Trump. Here's W...   \n",
            "\n",
            "                                                   text label  \n",
            "0     Daniel Greenfield, a Shillman Journalism Fello...  FAKE  \n",
            "1     Google Pinterest Digg Linkedin Reddit Stumbleu...  FAKE  \n",
            "2     U.S. Secretary of State John F. Kerry said Mon...  REAL  \n",
            "3     — Kaydee King (@KaydeeKing) November 9, 2016 T...  FAKE  \n",
            "4     It's primary day in New York and front-runners...  REAL  \n",
            "...                                                 ...   ...  \n",
            "6330  The State Department told the Republican Natio...  REAL  \n",
            "6331  The ‘P’ in PBS Should Stand for ‘Plutocratic’ ...  FAKE  \n",
            "6332   Anti-Trump Protesters Are Tools of the Oligar...  FAKE  \n",
            "6333  ADDIS ABABA, Ethiopia —President Obama convene...  REAL  \n",
            "6334  Jeb Bush Is Suddenly Attacking Trump. Here's W...  REAL  \n",
            "\n",
            "[6256 rows x 3 columns]\n",
            "DataFrame without duplicate rows based on 'text' column:\n",
            "                                                  title  \\\n",
            "0                          You Can Smell Hillary’s Fear   \n",
            "1     Watch The Exact Moment Paul Ryan Committed Pol...   \n",
            "2           Kerry to go to Paris in gesture of sympathy   \n",
            "3     Bernie supporters on Twitter erupt in anger ag...   \n",
            "4      The Battle of New York: Why This Primary Matters   \n",
            "...                                                 ...   \n",
            "6330  State Department says it can't find emails fro...   \n",
            "6331  The ‘P’ in PBS Should Stand for ‘Plutocratic’ ...   \n",
            "6332  Anti-Trump Protesters Are Tools of the Oligarc...   \n",
            "6333  In Ethiopia, Obama seeks progress on peace, se...   \n",
            "6334  Jeb Bush Is Suddenly Attacking Trump. Here's W...   \n",
            "\n",
            "                                                   text label  \n",
            "0     Daniel Greenfield, a Shillman Journalism Fello...  FAKE  \n",
            "1     Google Pinterest Digg Linkedin Reddit Stumbleu...  FAKE  \n",
            "2     U.S. Secretary of State John F. Kerry said Mon...  REAL  \n",
            "3     — Kaydee King (@KaydeeKing) November 9, 2016 T...  FAKE  \n",
            "4     It's primary day in New York and front-runners...  REAL  \n",
            "...                                                 ...   ...  \n",
            "6330  The State Department told the Republican Natio...  REAL  \n",
            "6331  The ‘P’ in PBS Should Stand for ‘Plutocratic’ ...  FAKE  \n",
            "6332   Anti-Trump Protesters Are Tools of the Oligar...  FAKE  \n",
            "6333  ADDIS ABABA, Ethiopia —President Obama convene...  REAL  \n",
            "6334  Jeb Bush Is Suddenly Attacking Trump. Here's W...  REAL  \n",
            "\n",
            "[6011 rows x 3 columns]\n"
          ]
        }
      ]
    },
    {
      "cell_type": "code",
      "source": [
        "import pandas as pd\n",
        "\n",
        "null_label_count = df['label'].isnull().sum()\n",
        "print(f\"Number of null values in the 'label' column: {null_label_count}\")\n",
        "\n",
        "df = df.dropna(subset=['label'])\n",
        "\n",
        "print(\"DataFrame after removing rows with null values in the 'label' column:\")\n",
        "print(df_cleaned)"
      ],
      "metadata": {
        "id": "xfLP8qDYnxSO",
        "outputId": "8719cde2-cd62-4b40-b5d8-3b7a02521ebb",
        "colab": {
          "base_uri": "https://localhost:8080/"
        }
      },
      "execution_count": 40,
      "outputs": [
        {
          "output_type": "stream",
          "name": "stdout",
          "text": [
            "Number of null values in the 'label' column: 0\n",
            "DataFrame after removing rows with null values in the 'label' column:\n",
            "                                                  title  \\\n",
            "0                          You Can Smell Hillary’s Fear   \n",
            "1     Watch The Exact Moment Paul Ryan Committed Pol...   \n",
            "2           Kerry to go to Paris in gesture of sympathy   \n",
            "3     Bernie supporters on Twitter erupt in anger ag...   \n",
            "4      The Battle of New York: Why This Primary Matters   \n",
            "...                                                 ...   \n",
            "6330  State Department says it can't find emails fro...   \n",
            "6331  The ‘P’ in PBS Should Stand for ‘Plutocratic’ ...   \n",
            "6332  Anti-Trump Protesters Are Tools of the Oligarc...   \n",
            "6333  In Ethiopia, Obama seeks progress on peace, se...   \n",
            "6334  Jeb Bush Is Suddenly Attacking Trump. Here's W...   \n",
            "\n",
            "                                                   text label  \n",
            "0     Daniel Greenfield, a Shillman Journalism Fello...  FAKE  \n",
            "1     Google Pinterest Digg Linkedin Reddit Stumbleu...  FAKE  \n",
            "2     U.S. Secretary of State John F. Kerry said Mon...  REAL  \n",
            "3     — Kaydee King (@KaydeeKing) November 9, 2016 T...  FAKE  \n",
            "4     It's primary day in New York and front-runners...  REAL  \n",
            "...                                                 ...   ...  \n",
            "6330  The State Department told the Republican Natio...  REAL  \n",
            "6331  The ‘P’ in PBS Should Stand for ‘Plutocratic’ ...  FAKE  \n",
            "6332   Anti-Trump Protesters Are Tools of the Oligar...  FAKE  \n",
            "6333  ADDIS ABABA, Ethiopia —President Obama convene...  REAL  \n",
            "6334  Jeb Bush Is Suddenly Attacking Trump. Here's W...  REAL  \n",
            "\n",
            "[6335 rows x 3 columns]\n"
          ]
        }
      ]
    },
    {
      "cell_type": "code",
      "source": [
        "df.shape"
      ],
      "metadata": {
        "id": "KcfPPGQeoR_s",
        "outputId": "f1f8ffe0-a457-470f-e39c-525b417ef2ce",
        "colab": {
          "base_uri": "https://localhost:8080/"
        }
      },
      "execution_count": 41,
      "outputs": [
        {
          "output_type": "execute_result",
          "data": {
            "text/plain": [
              "(6011, 3)"
            ]
          },
          "metadata": {},
          "execution_count": 41
        }
      ]
    },
    {
      "cell_type": "code",
      "source": [],
      "metadata": {
        "id": "95YbdKgQoe39"
      },
      "execution_count": null,
      "outputs": []
    }
  ]
}